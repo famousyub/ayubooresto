{
 "cells": [
  {
   "cell_type": "markdown",
   "source": [
    "## This model uses the K-NN(K-Nearest Neighbours) machine learning algorithm to measure the similarities for the collaborative filtering"
   ],
   "metadata": {
    "collapsed": false,
    "pycharm": {
     "name": "#%% md\n"
    }
   }
  },
  {
   "cell_type": "markdown",
   "metadata": {
    "collapsed": true
   },
   "source": [
    "# Import The Required Libraries"
   ]
  },
  {
   "cell_type": "code",
   "execution_count": 1,
   "metadata": {},
   "outputs": [],
   "source": [
    "import pandas as pd\n",
    "import numpy as np\n",
    "import matplotlib.pyplot as plt\n",
    "from sklearn.neighbors import NearestNeighbors\n",
    "from scipy.sparse import csr_matrix"
   ]
  },
  {
   "cell_type": "markdown",
   "metadata": {},
   "source": [
    "# Load the dataset\n",
    "\n",
    "This dataset consists of reviews of fine foods from amazon. The data span a period of more than 10 years, including all ~500,000 reviews up to October 2012. Reviews include product and user information, ratings, and a plain text review. It also includes reviews from all other Amazon categories.\n",
    "\n",
    "Data includes:\n",
    "<li>Reviews from Oct 1999 - Oct 2012</li>\n",
    "<li>568,454 reviews</li>\n",
    "<li>256,059 users</li>\n",
    "<li>74,258 products</li>\n",
    "<li>260 users with > 50 reviews</li>\n",
    "\n",
    "The dataset includes 10 columns as shown below"
   ]
  },
  {
   "cell_type": "code",
   "execution_count": 2,
   "metadata": {
    "pycharm": {
     "name": "#%%\n"
    }
   },
   "outputs": [
    {
     "data": {
      "text/plain": "   Id   ProductId          UserId                      ProfileName  \\\n0   1  B001E4KFG0  A3SGXH7AUHU8GW                       delmartian   \n1   2  B00813GRG4  A1D87F6ZCVE5NK                           dll pa   \n2   3  B000LQOCH0   ABXLMWJIXXAIN  Natalia Corres \"Natalia Corres\"   \n3   4  B000UA0QIQ  A395BORC6FGVXV                             Karl   \n4   5  B006K2ZZ7K  A1UQRSCLF8GW1T    Michael D. Bigham \"M. Wassir\"   \n\n   HelpfulnessNumerator  HelpfulnessDenominator  Score        Time  \\\n0                     1                       1      5  1303862400   \n1                     0                       0      1  1346976000   \n2                     1                       1      4  1219017600   \n3                     3                       3      2  1307923200   \n4                     0                       0      5  1350777600   \n\n                 Summary                                               Text  \n0  Good Quality Dog Food  I have bought several of the Vitality canned d...  \n1      Not as Advertised  Product arrived labeled as Jumbo Salted Peanut...  \n2  \"Delight\" says it all  This is a confection that has been around a fe...  \n3         Cough Medicine  If you are looking for the secret ingredient i...  \n4            Great taffy  Great taffy at a great price.  There was a wid...  ",
      "text/html": "<div>\n<style scoped>\n    .dataframe tbody tr th:only-of-type {\n        vertical-align: middle;\n    }\n\n    .dataframe tbody tr th {\n        vertical-align: top;\n    }\n\n    .dataframe thead th {\n        text-align: right;\n    }\n</style>\n<table border=\"1\" class=\"dataframe\">\n  <thead>\n    <tr style=\"text-align: right;\">\n      <th></th>\n      <th>Id</th>\n      <th>ProductId</th>\n      <th>UserId</th>\n      <th>ProfileName</th>\n      <th>HelpfulnessNumerator</th>\n      <th>HelpfulnessDenominator</th>\n      <th>Score</th>\n      <th>Time</th>\n      <th>Summary</th>\n      <th>Text</th>\n    </tr>\n  </thead>\n  <tbody>\n    <tr>\n      <th>0</th>\n      <td>1</td>\n      <td>B001E4KFG0</td>\n      <td>A3SGXH7AUHU8GW</td>\n      <td>delmartian</td>\n      <td>1</td>\n      <td>1</td>\n      <td>5</td>\n      <td>1303862400</td>\n      <td>Good Quality Dog Food</td>\n      <td>I have bought several of the Vitality canned d...</td>\n    </tr>\n    <tr>\n      <th>1</th>\n      <td>2</td>\n      <td>B00813GRG4</td>\n      <td>A1D87F6ZCVE5NK</td>\n      <td>dll pa</td>\n      <td>0</td>\n      <td>0</td>\n      <td>1</td>\n      <td>1346976000</td>\n      <td>Not as Advertised</td>\n      <td>Product arrived labeled as Jumbo Salted Peanut...</td>\n    </tr>\n    <tr>\n      <th>2</th>\n      <td>3</td>\n      <td>B000LQOCH0</td>\n      <td>ABXLMWJIXXAIN</td>\n      <td>Natalia Corres \"Natalia Corres\"</td>\n      <td>1</td>\n      <td>1</td>\n      <td>4</td>\n      <td>1219017600</td>\n      <td>\"Delight\" says it all</td>\n      <td>This is a confection that has been around a fe...</td>\n    </tr>\n    <tr>\n      <th>3</th>\n      <td>4</td>\n      <td>B000UA0QIQ</td>\n      <td>A395BORC6FGVXV</td>\n      <td>Karl</td>\n      <td>3</td>\n      <td>3</td>\n      <td>2</td>\n      <td>1307923200</td>\n      <td>Cough Medicine</td>\n      <td>If you are looking for the secret ingredient i...</td>\n    </tr>\n    <tr>\n      <th>4</th>\n      <td>5</td>\n      <td>B006K2ZZ7K</td>\n      <td>A1UQRSCLF8GW1T</td>\n      <td>Michael D. Bigham \"M. Wassir\"</td>\n      <td>0</td>\n      <td>0</td>\n      <td>5</td>\n      <td>1350777600</td>\n      <td>Great taffy</td>\n      <td>Great taffy at a great price.  There was a wid...</td>\n    </tr>\n  </tbody>\n</table>\n</div>"
     },
     "execution_count": 2,
     "metadata": {},
     "output_type": "execute_result"
    }
   ],
   "source": [
    "reviews = pd.read_csv('data/reviews.csv')\n",
    "\n",
    "reviews.head()"
   ]
  },
  {
   "cell_type": "markdown",
   "metadata": {},
   "source": [
    "We well use Collaborative filtering recommendation using K-NN(K-Nearset Nieghbours) as a similiarity measurement.\n",
    "\n",
    "We well remove all unnecessary columns from the dataframe"
   ]
  },
  {
   "cell_type": "code",
   "execution_count": 3,
   "metadata": {
    "pycharm": {
     "name": "#%%\n"
    }
   },
   "outputs": [
    {
     "data": {
      "text/plain": "    ProductId          UserId  Stars\n0  B001E4KFG0  A3SGXH7AUHU8GW      5\n1  B00813GRG4  A1D87F6ZCVE5NK      1\n2  B000LQOCH0   ABXLMWJIXXAIN      4\n3  B000UA0QIQ  A395BORC6FGVXV      2\n4  B006K2ZZ7K  A1UQRSCLF8GW1T      5",
      "text/html": "<div>\n<style scoped>\n    .dataframe tbody tr th:only-of-type {\n        vertical-align: middle;\n    }\n\n    .dataframe tbody tr th {\n        vertical-align: top;\n    }\n\n    .dataframe thead th {\n        text-align: right;\n    }\n</style>\n<table border=\"1\" class=\"dataframe\">\n  <thead>\n    <tr style=\"text-align: right;\">\n      <th></th>\n      <th>ProductId</th>\n      <th>UserId</th>\n      <th>Stars</th>\n    </tr>\n  </thead>\n  <tbody>\n    <tr>\n      <th>0</th>\n      <td>B001E4KFG0</td>\n      <td>A3SGXH7AUHU8GW</td>\n      <td>5</td>\n    </tr>\n    <tr>\n      <th>1</th>\n      <td>B00813GRG4</td>\n      <td>A1D87F6ZCVE5NK</td>\n      <td>1</td>\n    </tr>\n    <tr>\n      <th>2</th>\n      <td>B000LQOCH0</td>\n      <td>ABXLMWJIXXAIN</td>\n      <td>4</td>\n    </tr>\n    <tr>\n      <th>3</th>\n      <td>B000UA0QIQ</td>\n      <td>A395BORC6FGVXV</td>\n      <td>2</td>\n    </tr>\n    <tr>\n      <th>4</th>\n      <td>B006K2ZZ7K</td>\n      <td>A1UQRSCLF8GW1T</td>\n      <td>5</td>\n    </tr>\n  </tbody>\n</table>\n</div>"
     },
     "execution_count": 3,
     "metadata": {},
     "output_type": "execute_result"
    }
   ],
   "source": [
    "reviews = reviews[['ProductId', 'UserId', 'Score']]\n",
    "reviews = reviews.rename(columns={'Score':'Stars'})\n",
    "reviews.head()"
   ]
  },
  {
   "cell_type": "markdown",
   "source": [
    "### Take subset of dataset to make it less sparse/more dense. ( For example, keep the users only who has given 50 or more number of ratings )"
   ],
   "metadata": {
    "collapsed": false
   }
  },
  {
   "cell_type": "code",
   "execution_count": 4,
   "outputs": [
    {
     "data": {
      "text/plain": "UserId\nA3OXHLG6DIBRW8    448\nA1YUL9PCJR3JTY    421\nAY12DBB0U420B     389\nA281NPSIMI1C2R    365\nA1Z54EM24Y40LL    256\nA1TMAVN4CEM8U8    204\nA2MUGFV2TDQ47K    201\nA3TVZM3ZIXG8YW    199\nA3PJZ8TU8FDQ1K    178\nAQQLWCMRNDFGI     176\ndtype: int64"
     },
     "execution_count": 4,
     "metadata": {},
     "output_type": "execute_result"
    }
   ],
   "source": [
    "# Top 10 users based on rating\n",
    "most_rated = reviews.groupby('UserId').size().sort_values(ascending=False)[:10]\n",
    "most_rated"
   ],
   "metadata": {
    "collapsed": false,
    "pycharm": {
     "name": "#%%\n"
    }
   }
  },
  {
   "cell_type": "markdown",
   "source": [
    "### Data model preparation as per requirement on number of minimum ratings\n"
   ],
   "metadata": {
    "collapsed": false
   }
  },
  {
   "cell_type": "code",
   "execution_count": 5,
   "outputs": [],
   "source": [
    "counts = reviews['UserId'].value_counts()\n",
    "reviews_final = reviews[reviews['UserId'].isin(counts[counts >= 50].index)]"
   ],
   "metadata": {
    "collapsed": false,
    "pycharm": {
     "name": "#%%\n"
    }
   }
  },
  {
   "cell_type": "code",
   "execution_count": 6,
   "outputs": [
    {
     "data": {
      "text/plain": "      ProductId          UserId  Stars\n14   B001GVISJM  A2MUGFV2TDQ47K      5\n44   B001EO5QW8  A2G7B7FKP2O2PU      5\n46   B001EO5QW8   AQLL2R1PPR46X      5\n109  B001REEG6C   AY12DBB0U420B      5\n141  B001GVISJW  A2YIO225BTKVPU      4",
      "text/html": "<div>\n<style scoped>\n    .dataframe tbody tr th:only-of-type {\n        vertical-align: middle;\n    }\n\n    .dataframe tbody tr th {\n        vertical-align: top;\n    }\n\n    .dataframe thead th {\n        text-align: right;\n    }\n</style>\n<table border=\"1\" class=\"dataframe\">\n  <thead>\n    <tr style=\"text-align: right;\">\n      <th></th>\n      <th>ProductId</th>\n      <th>UserId</th>\n      <th>Stars</th>\n    </tr>\n  </thead>\n  <tbody>\n    <tr>\n      <th>14</th>\n      <td>B001GVISJM</td>\n      <td>A2MUGFV2TDQ47K</td>\n      <td>5</td>\n    </tr>\n    <tr>\n      <th>44</th>\n      <td>B001EO5QW8</td>\n      <td>A2G7B7FKP2O2PU</td>\n      <td>5</td>\n    </tr>\n    <tr>\n      <th>46</th>\n      <td>B001EO5QW8</td>\n      <td>AQLL2R1PPR46X</td>\n      <td>5</td>\n    </tr>\n    <tr>\n      <th>109</th>\n      <td>B001REEG6C</td>\n      <td>AY12DBB0U420B</td>\n      <td>5</td>\n    </tr>\n    <tr>\n      <th>141</th>\n      <td>B001GVISJW</td>\n      <td>A2YIO225BTKVPU</td>\n      <td>4</td>\n    </tr>\n  </tbody>\n</table>\n</div>"
     },
     "execution_count": 6,
     "metadata": {},
     "output_type": "execute_result"
    }
   ],
   "source": [
    "reviews_final.head()"
   ],
   "metadata": {
    "collapsed": false,
    "pycharm": {
     "name": "#%%\n"
    }
   }
  },
  {
   "cell_type": "code",
   "execution_count": 7,
   "outputs": [
    {
     "name": "stdout",
     "output_type": "stream",
     "text": [
      "Number of users who have rated 50 or more items = 22941\n",
      "Number of unique USERS in final data =  267\n",
      "Number of unique ITEMS in final data =  11313\n"
     ]
    }
   ],
   "source": [
    "print('Number of users who have rated 50 or more items =', len(reviews_final))\n",
    "print('Number of unique USERS in final data = ', reviews_final['UserId'].nunique())\n",
    "print('Number of unique ITEMS in final data = ', reviews_final['ProductId'].nunique())\n"
   ],
   "metadata": {
    "collapsed": false,
    "pycharm": {
     "name": "#%%\n"
    }
   }
  },
  {
   "cell_type": "markdown",
   "source": [
    "Transform the values(restaurant_rating) of the matrix dataframe into a scipy sparse matrix for more efficient calculations."
   ],
   "metadata": {
    "collapsed": false
   }
  },
  {
   "cell_type": "code",
   "execution_count": 8,
   "outputs": [
    {
     "data": {
      "text/plain": "ProductId   7310172001  7310172101  7800648702  B00004CI84  B00004CXX9  \\\nuser_index                                                               \n0                  0.0         0.0         0.0         0.0         0.0   \n1                  0.0         0.0         0.0         0.0         0.0   \n2                  0.0         0.0         0.0         0.0         0.0   \n3                  0.0         0.0         0.0         0.0         0.0   \n4                  0.0         0.0         0.0         0.0         0.0   \n\nProductId   B00004RBDU  B00004RBDZ  B00004RYGX  B00004S1C6  B000052Y74  ...  \\\nuser_index                                                              ...   \n0                  1.0         0.0         0.0         0.0         0.0  ...   \n1                  0.0         0.0         0.0         0.0         0.0  ...   \n2                  0.0         0.0         0.0         0.0         0.0  ...   \n3                  0.0         0.0         0.0         0.0         0.0  ...   \n4                  0.0         0.0         0.0         0.0         0.0  ...   \n\nProductId   B009KAQZ9G  B009KAQZIM  B009KOHGEK  B009KP6HBM  B009LRLB6U  \\\nuser_index                                                               \n0                  0.0         0.0         0.0         0.0         0.0   \n1                  0.0         0.0         0.0         0.0         0.0   \n2                  0.0         0.0         0.0         0.0         0.0   \n3                  0.0         0.0         0.0         0.0         0.0   \n4                  0.0         0.0         0.0         0.0         0.0   \n\nProductId   B009LT26BC  B009M2LUEW  B009PCDDO4  B009QEBGIQ  B009RB4GO4  \nuser_index                                                              \n0                  0.0         0.0         0.0         0.0         0.0  \n1                  0.0         0.0         0.0         0.0         0.0  \n2                  0.0         0.0         0.0         0.0         0.0  \n3                  0.0         0.0         0.0         0.0         0.0  \n4                  0.0         0.0         0.0         0.0         0.0  \n\n[5 rows x 11313 columns]",
      "text/html": "<div>\n<style scoped>\n    .dataframe tbody tr th:only-of-type {\n        vertical-align: middle;\n    }\n\n    .dataframe tbody tr th {\n        vertical-align: top;\n    }\n\n    .dataframe thead th {\n        text-align: right;\n    }\n</style>\n<table border=\"1\" class=\"dataframe\">\n  <thead>\n    <tr style=\"text-align: right;\">\n      <th>ProductId</th>\n      <th>7310172001</th>\n      <th>7310172101</th>\n      <th>7800648702</th>\n      <th>B00004CI84</th>\n      <th>B00004CXX9</th>\n      <th>B00004RBDU</th>\n      <th>B00004RBDZ</th>\n      <th>B00004RYGX</th>\n      <th>B00004S1C6</th>\n      <th>B000052Y74</th>\n      <th>...</th>\n      <th>B009KAQZ9G</th>\n      <th>B009KAQZIM</th>\n      <th>B009KOHGEK</th>\n      <th>B009KP6HBM</th>\n      <th>B009LRLB6U</th>\n      <th>B009LT26BC</th>\n      <th>B009M2LUEW</th>\n      <th>B009PCDDO4</th>\n      <th>B009QEBGIQ</th>\n      <th>B009RB4GO4</th>\n    </tr>\n    <tr>\n      <th>user_index</th>\n      <th></th>\n      <th></th>\n      <th></th>\n      <th></th>\n      <th></th>\n      <th></th>\n      <th></th>\n      <th></th>\n      <th></th>\n      <th></th>\n      <th></th>\n      <th></th>\n      <th></th>\n      <th></th>\n      <th></th>\n      <th></th>\n      <th></th>\n      <th></th>\n      <th></th>\n      <th></th>\n      <th></th>\n    </tr>\n  </thead>\n  <tbody>\n    <tr>\n      <th>0</th>\n      <td>0.0</td>\n      <td>0.0</td>\n      <td>0.0</td>\n      <td>0.0</td>\n      <td>0.0</td>\n      <td>1.0</td>\n      <td>0.0</td>\n      <td>0.0</td>\n      <td>0.0</td>\n      <td>0.0</td>\n      <td>...</td>\n      <td>0.0</td>\n      <td>0.0</td>\n      <td>0.0</td>\n      <td>0.0</td>\n      <td>0.0</td>\n      <td>0.0</td>\n      <td>0.0</td>\n      <td>0.0</td>\n      <td>0.0</td>\n      <td>0.0</td>\n    </tr>\n    <tr>\n      <th>1</th>\n      <td>0.0</td>\n      <td>0.0</td>\n      <td>0.0</td>\n      <td>0.0</td>\n      <td>0.0</td>\n      <td>0.0</td>\n      <td>0.0</td>\n      <td>0.0</td>\n      <td>0.0</td>\n      <td>0.0</td>\n      <td>...</td>\n      <td>0.0</td>\n      <td>0.0</td>\n      <td>0.0</td>\n      <td>0.0</td>\n      <td>0.0</td>\n      <td>0.0</td>\n      <td>0.0</td>\n      <td>0.0</td>\n      <td>0.0</td>\n      <td>0.0</td>\n    </tr>\n    <tr>\n      <th>2</th>\n      <td>0.0</td>\n      <td>0.0</td>\n      <td>0.0</td>\n      <td>0.0</td>\n      <td>0.0</td>\n      <td>0.0</td>\n      <td>0.0</td>\n      <td>0.0</td>\n      <td>0.0</td>\n      <td>0.0</td>\n      <td>...</td>\n      <td>0.0</td>\n      <td>0.0</td>\n      <td>0.0</td>\n      <td>0.0</td>\n      <td>0.0</td>\n      <td>0.0</td>\n      <td>0.0</td>\n      <td>0.0</td>\n      <td>0.0</td>\n      <td>0.0</td>\n    </tr>\n    <tr>\n      <th>3</th>\n      <td>0.0</td>\n      <td>0.0</td>\n      <td>0.0</td>\n      <td>0.0</td>\n      <td>0.0</td>\n      <td>0.0</td>\n      <td>0.0</td>\n      <td>0.0</td>\n      <td>0.0</td>\n      <td>0.0</td>\n      <td>...</td>\n      <td>0.0</td>\n      <td>0.0</td>\n      <td>0.0</td>\n      <td>0.0</td>\n      <td>0.0</td>\n      <td>0.0</td>\n      <td>0.0</td>\n      <td>0.0</td>\n      <td>0.0</td>\n      <td>0.0</td>\n    </tr>\n    <tr>\n      <th>4</th>\n      <td>0.0</td>\n      <td>0.0</td>\n      <td>0.0</td>\n      <td>0.0</td>\n      <td>0.0</td>\n      <td>0.0</td>\n      <td>0.0</td>\n      <td>0.0</td>\n      <td>0.0</td>\n      <td>0.0</td>\n      <td>...</td>\n      <td>0.0</td>\n      <td>0.0</td>\n      <td>0.0</td>\n      <td>0.0</td>\n      <td>0.0</td>\n      <td>0.0</td>\n      <td>0.0</td>\n      <td>0.0</td>\n      <td>0.0</td>\n      <td>0.0</td>\n    </tr>\n  </tbody>\n</table>\n<p>5 rows × 11313 columns</p>\n</div>"
     },
     "execution_count": 8,
     "metadata": {},
     "output_type": "execute_result"
    }
   ],
   "source": [
    "user_reviews = pd.pivot_table(reviews_final,index=['UserId'], columns = 'ProductId', values = \"Stars\").fillna(0)\n",
    "user_reviews['user_index'] = np.arange(0, user_reviews.shape[0], 1)\n",
    "user_reviews = user_reviews.set_index(['user_index'])\n",
    "user_reviews_features_matrix = csr_matrix(user_reviews.values)\n",
    "user_reviews.head()"
   ],
   "metadata": {
    "collapsed": false,
    "pycharm": {
     "name": "#%%\n"
    }
   }
  },
  {
   "cell_type": "markdown",
   "source": [
    "### Fitting the K-NN"
   ],
   "metadata": {
    "collapsed": false
   }
  },
  {
   "cell_type": "code",
   "execution_count": 9,
   "outputs": [
    {
     "data": {
      "text/plain": "NearestNeighbors(algorithm='brute', leaf_size=30, metric='cosine',\n                 metric_params=None, n_jobs=None, n_neighbors=5, p=2,\n                 radius=1.0)"
     },
     "execution_count": 9,
     "metadata": {},
     "output_type": "execute_result"
    }
   ],
   "source": [
    "knn_recomm = NearestNeighbors(metric = 'cosine', algorithm = 'brute')\n",
    "knn_recomm.fit(user_reviews_features_matrix)"
   ],
   "metadata": {
    "collapsed": false,
    "pycharm": {
     "name": "#%%\n"
    }
   }
  },
  {
   "cell_type": "markdown",
   "source": [
    "### Testing the model"
   ],
   "metadata": {
    "collapsed": false
   }
  },
  {
   "cell_type": "code",
   "execution_count": 10,
   "outputs": [
    {
     "name": "stdout",
     "output_type": "stream",
     "text": [
      "Recommendations for User 199 on priority basis:\n",
      "\n",
      "1: 184\n",
      "2: 188\n",
      "3: 230\n",
      "4: 181\n",
      "5: 70\n",
      "6: 109\n",
      "7: 108\n",
      "8: 185\n",
      "9: 124\n",
      "10: 190\n"
     ]
    }
   ],
   "source": [
    "#randomChoice = np.random.choice(user_reviews.shape[0])\n",
    "randomChoice = 199\n",
    "distances, indices = knn_recomm.kneighbors(user_reviews.iloc[randomChoice].values.reshape(1, -1), n_neighbors = 11)\n",
    "for i in range(0, len(distances.flatten())):\n",
    "    if i == 0:\n",
    "        print('Recommendations for User {0} on priority basis:\\n'.format(user_reviews.index[randomChoice]))\n",
    "    else:\n",
    "        print('{0}: {1}'.format(i, user_reviews.index[indices.flatten()[i]]))"
   ],
   "metadata": {
    "collapsed": false,
    "pycharm": {
     "name": "#%%\n"
    }
   }
  },
  {
   "cell_type": "code",
   "execution_count": 11,
   "outputs": [
    {
     "name": "stdout",
     "output_type": "stream",
     "text": [
      "ProductId\n",
      "B000168O3I    5.000000\n",
      "B0001VVCV4    5.000000\n",
      "B0001VVCVO    5.000000\n",
      "B0006UIJE8    5.000000\n",
      "B000E63L8S    5.000000\n",
      "B000E671W0    5.000000\n",
      "B000EMK4CS    5.000000\n",
      "B000EMQF58    5.000000\n",
      "B000EMQFY4    5.000000\n",
      "B000EPUPSS    5.000000\n",
      "B000ETVRQS    5.000000\n",
      "B000F4DKAS    5.000000\n",
      "B000F4F95C    5.000000\n",
      "B000F4F95M    5.000000\n",
      "B000F4J76E    5.000000\n",
      "B000I0QDVC    5.000000\n",
      "B000JVCBO8    5.000000\n",
      "B000MPQ4Q2    5.000000\n",
      "B000YCJRIU    5.000000\n",
      "B0011DMP8K    5.000000\n",
      "B0014X5O1C    5.000000\n",
      "B00181Y1PU    5.000000\n",
      "B0018SMUVA    5.000000\n",
      "B001E6IUMY    5.000000\n",
      "B001G7QG5O    5.000000\n",
      "B001IMUHCU    5.000000\n",
      "B001KUOGAO    5.000000\n",
      "B001OCBT3U    5.000000\n",
      "B001OCKIBY    5.000000\n",
      "B001OHX9A6    5.000000\n",
      "B001U2OMAQ    5.000000\n",
      "B0027MIP9C    5.000000\n",
      "B002L68KDK    5.000000\n",
      "B002LMA8FC    5.000000\n",
      "B002LMQ6OO    5.000000\n",
      "B002LMQRA2    5.000000\n",
      "B002LMXFCU    5.000000\n",
      "B002LN566C    5.000000\n",
      "B003MZ89GW    5.000000\n",
      "B003MZH8PK    5.000000\n",
      "B004158VLU    5.000000\n",
      "B004867T24    5.000000\n",
      "B004BKLHOS    5.000000\n",
      "B004FQU4CE    5.000000\n",
      "B005IW4WFY    5.000000\n",
      "B005P0I0GG    5.000000\n",
      "B0061IUIDY    4.666667\n",
      "B0061IULW2    5.000000\n",
      "B006K3OMFU    5.000000\n",
      "B007JT7ARQ    5.000000\n",
      "B007K449CE    5.000000\n",
      "B008MOO6P6    5.000000\n",
      "B008PRKBYK    5.000000\n",
      "B008RWUHA6    5.000000\n",
      "B008RWUKXK    5.000000\n",
      "Name: 184, dtype: float64\n"
     ]
    }
   ],
   "source": [
    "# index 0 is the user himself\n",
    "result = user_reviews.loc[indices.flatten()[1]]\n",
    "\n",
    "user = user_reviews.loc[randomChoice]\n",
    "\n",
    "recommendations = result[user == 0]\n",
    "recommendations = recommendations[result > 4]\n",
    "print(recommendations)"
   ],
   "metadata": {
    "collapsed": false,
    "pycharm": {
     "name": "#%%\n"
    }
   }
  }
 ],
 "metadata": {
  "kernelspec": {
   "display_name": "Python 3",
   "language": "python",
   "name": "python3"
  },
  "language_info": {
   "codemirror_mode": {
    "name": "ipython",
    "version": 3
   },
   "file_extension": ".py",
   "mimetype": "text/x-python",
   "name": "python",
   "nbconvert_exporter": "python",
   "pygments_lexer": "ipython3",
   "version": "3.7.6"
  }
 },
 "nbformat": 4,
 "nbformat_minor": 1
}