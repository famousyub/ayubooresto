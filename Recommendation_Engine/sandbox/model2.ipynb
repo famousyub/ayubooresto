{
 "cells": [
  {
   "metadata": {},
   "cell_type": "markdown",
   "source": [
    "# Please upvote if you like this kernel for further encouragement\n"
   ]
  },
  {
   "metadata": {},
   "cell_type": "markdown",
   "source": [
    "# Import Necessary Libraries "
   ]
  },
  {
   "metadata": {
    "_uuid": "8f2839f25d086af736a60e9eeb907d3b93b6e0e5",
    "_cell_guid": "b1076dfc-b9ad-4769-8c92-a6c4dae69d19",
    "trusted": true
   },
   "cell_type": "code",
   "source": [
    "# This Python 3 environment comes with many helpful analytics libraries installed\n",
    "# It is defined by the kaggle/python docker image: https://github.com/kaggle/docker-python\n",
    "# For example, here's several helpful packages to load in \n",
    "\n",
    "import numpy as np\n",
    "import pandas as pd\n",
    "import math\n",
    "import json\n",
    "import time\n",
    "import matplotlib.pyplot as plt\n",
    "import seaborn as sns\n",
    "from sklearn.metrics.pairwise import cosine_similarity\n",
    "from sklearn.model_selection import train_test_split\n",
    "from sklearn.neighbors import NearestNeighbors\n",
    "#from sklearn.externals import joblib\n",
    "import scipy.sparse\n",
    "from scipy.sparse import csr_matrix\n",
    "import warnings; warnings.simplefilter('ignore')\n",
    "%matplotlib inline\n",
    "\n",
    "# Input data files are available in the \"../input/\" directory.\n",
    "# For example, running this (by clicking run or pressing Shift+Enter) will list all files under the input directory\n",
    "\n",
    "import os\n",
    "for dirname, _, filenames in os.walk('/kaggle/input'):\n",
    "    for filename in filenames:\n",
    "        print(os.path.join(dirname, filename))\n",
    "\n",
    "# Any results you write to the current directory are saved as output."
   ],
   "execution_count": 14,
   "outputs": []
  },
  {
   "metadata": {},
   "cell_type": "markdown",
   "source": [
    "# Importing the Dataset"
   ]
  },
  {
   "metadata": {},
   "cell_type": "markdown",
   "source": [
    "## Read and Explore the Data"
   ]
  },
  {
   "metadata": {
    "_uuid": "d629ff2d2480ee46fbb7e2d37f6b5fab8052498a",
    "_cell_guid": "79c7e3d0-c299-4dcb-8224-4455121ee9b0",
    "trusted": true
   },
   "cell_type": "code",
   "source": [
    "#Import the data set\n",
    "df = pd.read_csv('data/Reviews.csv')\n"
   ],
   "execution_count": 15,
   "outputs": []
  },
  {
   "metadata": {
    "trusted": true
   },
   "cell_type": "code",
   "source": "df.head()",
   "execution_count": 16,
   "outputs": [
    {
     "data": {
      "text/plain": "   Id   ProductId          UserId                      ProfileName  \\\n0   1  B001E4KFG0  A3SGXH7AUHU8GW                       delmartian   \n1   2  B00813GRG4  A1D87F6ZCVE5NK                           dll pa   \n2   3  B000LQOCH0   ABXLMWJIXXAIN  Natalia Corres \"Natalia Corres\"   \n3   4  B000UA0QIQ  A395BORC6FGVXV                             Karl   \n4   5  B006K2ZZ7K  A1UQRSCLF8GW1T    Michael D. Bigham \"M. Wassir\"   \n\n   HelpfulnessNumerator  HelpfulnessDenominator  Score        Time  \\\n0                     1                       1      5  1303862400   \n1                     0                       0      1  1346976000   \n2                     1                       1      4  1219017600   \n3                     3                       3      2  1307923200   \n4                     0                       0      5  1350777600   \n\n                 Summary                                               Text  \n0  Good Quality Dog Food  I have bought several of the Vitality canned d...  \n1      Not as Advertised  Product arrived labeled as Jumbo Salted Peanut...  \n2  \"Delight\" says it all  This is a confection that has been around a fe...  \n3         Cough Medicine  If you are looking for the secret ingredient i...  \n4            Great taffy  Great taffy at a great price.  There was a wid...  ",
      "text/html": "<div>\n<style scoped>\n    .dataframe tbody tr th:only-of-type {\n        vertical-align: middle;\n    }\n\n    .dataframe tbody tr th {\n        vertical-align: top;\n    }\n\n    .dataframe thead th {\n        text-align: right;\n    }\n</style>\n<table border=\"1\" class=\"dataframe\">\n  <thead>\n    <tr style=\"text-align: right;\">\n      <th></th>\n      <th>Id</th>\n      <th>ProductId</th>\n      <th>UserId</th>\n      <th>ProfileName</th>\n      <th>HelpfulnessNumerator</th>\n      <th>HelpfulnessDenominator</th>\n      <th>Score</th>\n      <th>Time</th>\n      <th>Summary</th>\n      <th>Text</th>\n    </tr>\n  </thead>\n  <tbody>\n    <tr>\n      <th>0</th>\n      <td>1</td>\n      <td>B001E4KFG0</td>\n      <td>A3SGXH7AUHU8GW</td>\n      <td>delmartian</td>\n      <td>1</td>\n      <td>1</td>\n      <td>5</td>\n      <td>1303862400</td>\n      <td>Good Quality Dog Food</td>\n      <td>I have bought several of the Vitality canned d...</td>\n    </tr>\n    <tr>\n      <th>1</th>\n      <td>2</td>\n      <td>B00813GRG4</td>\n      <td>A1D87F6ZCVE5NK</td>\n      <td>dll pa</td>\n      <td>0</td>\n      <td>0</td>\n      <td>1</td>\n      <td>1346976000</td>\n      <td>Not as Advertised</td>\n      <td>Product arrived labeled as Jumbo Salted Peanut...</td>\n    </tr>\n    <tr>\n      <th>2</th>\n      <td>3</td>\n      <td>B000LQOCH0</td>\n      <td>ABXLMWJIXXAIN</td>\n      <td>Natalia Corres \"Natalia Corres\"</td>\n      <td>1</td>\n      <td>1</td>\n      <td>4</td>\n      <td>1219017600</td>\n      <td>\"Delight\" says it all</td>\n      <td>This is a confection that has been around a fe...</td>\n    </tr>\n    <tr>\n      <th>3</th>\n      <td>4</td>\n      <td>B000UA0QIQ</td>\n      <td>A395BORC6FGVXV</td>\n      <td>Karl</td>\n      <td>3</td>\n      <td>3</td>\n      <td>2</td>\n      <td>1307923200</td>\n      <td>Cough Medicine</td>\n      <td>If you are looking for the secret ingredient i...</td>\n    </tr>\n    <tr>\n      <th>4</th>\n      <td>5</td>\n      <td>B006K2ZZ7K</td>\n      <td>A1UQRSCLF8GW1T</td>\n      <td>Michael D. Bigham \"M. Wassir\"</td>\n      <td>0</td>\n      <td>0</td>\n      <td>5</td>\n      <td>1350777600</td>\n      <td>Great taffy</td>\n      <td>Great taffy at a great price.  There was a wid...</td>\n    </tr>\n  </tbody>\n</table>\n</div>"
     },
     "execution_count": 16,
     "metadata": {},
     "output_type": "execute_result"
    }
   ]
  },
  {
   "metadata": {
    "trusted": true
   },
   "cell_type": "code",
   "source": "# Dropping the columns\ndf = df.drop(['Id', 'ProfileName','Time','HelpfulnessNumerator','HelpfulnessDenominator','Text','Summary'], axis = 1) \n",
   "execution_count": 17,
   "outputs": []
  },
  {
   "metadata": {
    "trusted": true
   },
   "cell_type": "code",
   "source": "# see few rows of the imported dataset\ndf.tail()",
   "execution_count": 18,
   "outputs": [
    {
     "data": {
      "text/plain": "         ProductId          UserId  Score\n568449  B001EO7N10  A28KG5XORO54AY      5\n568450  B003S1WTCU  A3I8AFVPEE8KI5      2\n568451  B004I613EE  A121AA1GQV751Z      5\n568452  B004I613EE   A3IBEVCTXKNOH      5\n568453  B001LR2CU2  A3LGQPJCZVL9UC      5",
      "text/html": "<div>\n<style scoped>\n    .dataframe tbody tr th:only-of-type {\n        vertical-align: middle;\n    }\n\n    .dataframe tbody tr th {\n        vertical-align: top;\n    }\n\n    .dataframe thead th {\n        text-align: right;\n    }\n</style>\n<table border=\"1\" class=\"dataframe\">\n  <thead>\n    <tr style=\"text-align: right;\">\n      <th></th>\n      <th>ProductId</th>\n      <th>UserId</th>\n      <th>Score</th>\n    </tr>\n  </thead>\n  <tbody>\n    <tr>\n      <th>568449</th>\n      <td>B001EO7N10</td>\n      <td>A28KG5XORO54AY</td>\n      <td>5</td>\n    </tr>\n    <tr>\n      <th>568450</th>\n      <td>B003S1WTCU</td>\n      <td>A3I8AFVPEE8KI5</td>\n      <td>2</td>\n    </tr>\n    <tr>\n      <th>568451</th>\n      <td>B004I613EE</td>\n      <td>A121AA1GQV751Z</td>\n      <td>5</td>\n    </tr>\n    <tr>\n      <th>568452</th>\n      <td>B004I613EE</td>\n      <td>A3IBEVCTXKNOH</td>\n      <td>5</td>\n    </tr>\n    <tr>\n      <th>568453</th>\n      <td>B001LR2CU2</td>\n      <td>A3LGQPJCZVL9UC</td>\n      <td>5</td>\n    </tr>\n  </tbody>\n</table>\n</div>"
     },
     "execution_count": 18,
     "metadata": {},
     "output_type": "execute_result"
    }
   ]
  },
  {
   "metadata": {
    "trusted": true
   },
   "cell_type": "code",
   "source": "# Check the number of rows and columns\nrows, columns = df.shape\nprint(\"No of rows: \", rows) \nprint(\"No of columns: \", columns) ",
   "execution_count": 19,
   "outputs": [
    {
     "name": "stdout",
     "output_type": "stream",
     "text": [
      "No of rows:  568454\n",
      "No of columns:  3\n"
     ]
    }
   ]
  },
  {
   "metadata": {
    "trusted": true
   },
   "cell_type": "code",
   "source": "#Check Data types\ndf.dtypes",
   "execution_count": 20,
   "outputs": [
    {
     "data": {
      "text/plain": "ProductId    object\nUserId       object\nScore         int64\ndtype: object"
     },
     "execution_count": 20,
     "metadata": {},
     "output_type": "execute_result"
    }
   ]
  },
  {
   "metadata": {
    "trusted": true
   },
   "cell_type": "code",
   "source": "# Check for missing values present\nprint('Number of missing values across columns-\\n', df.isnull().sum())",
   "execution_count": 21,
   "outputs": [
    {
     "name": "stdout",
     "output_type": "stream",
     "text": [
      "Number of missing values across columns-\n",
      " ProductId    0\n",
      "UserId       0\n",
      "Score        0\n",
      "dtype: int64\n"
     ]
    }
   ]
  },
  {
   "metadata": {},
   "cell_type": "markdown",
   "source": "### There are no missing values with total records 568454\n"
  },
  {
   "metadata": {
    "trusted": true
   },
   "cell_type": "code",
   "source": "# Summary statistics of 'rating' variable\ndf[['Score']].describe().transpose()",
   "execution_count": 22,
   "outputs": [
    {
     "data": {
      "text/plain": "          count      mean       std  min  25%  50%  75%  max\nScore  568454.0  4.183199  1.310436  1.0  4.0  5.0  5.0  5.0",
      "text/html": "<div>\n<style scoped>\n    .dataframe tbody tr th:only-of-type {\n        vertical-align: middle;\n    }\n\n    .dataframe tbody tr th {\n        vertical-align: top;\n    }\n\n    .dataframe thead th {\n        text-align: right;\n    }\n</style>\n<table border=\"1\" class=\"dataframe\">\n  <thead>\n    <tr style=\"text-align: right;\">\n      <th></th>\n      <th>count</th>\n      <th>mean</th>\n      <th>std</th>\n      <th>min</th>\n      <th>25%</th>\n      <th>50%</th>\n      <th>75%</th>\n      <th>max</th>\n    </tr>\n  </thead>\n  <tbody>\n    <tr>\n      <th>Score</th>\n      <td>568454.0</td>\n      <td>4.183199</td>\n      <td>1.310436</td>\n      <td>1.0</td>\n      <td>4.0</td>\n      <td>5.0</td>\n      <td>5.0</td>\n      <td>5.0</td>\n    </tr>\n  </tbody>\n</table>\n</div>"
     },
     "execution_count": 22,
     "metadata": {},
     "output_type": "execute_result"
    }
   ]
  },
  {
   "metadata": {
    "trusted": true
   },
   "cell_type": "code",
   "source": "# find minimum and maximum ratings \n\ndef find_min_max_rating():\n    print('The minimum rating is: %d' %(df['Score'].min()))\n    print('The maximum rating is: %d' %(df['Score'].max()))\n    \nfind_min_max_rating() ",
   "execution_count": 23,
   "outputs": [
    {
     "name": "stdout",
     "output_type": "stream",
     "text": [
      "The minimum rating is: 1\n",
      "The maximum rating is: 5\n"
     ]
    }
   ]
  },
  {
   "metadata": {},
   "cell_type": "markdown",
   "source": "### Ratings are on scale of 1 - 5\n"
  },
  {
   "metadata": {
    "trusted": true
   },
   "cell_type": "code",
   "source": "# Check the distribution of ratings \nwith sns.axes_style('white'):\n    g = sns.factorplot(\"Score\", data=df, aspect=2.0,kind='count')\n    g.set_ylabels(\"Total number of ratings\")",
   "execution_count": 24,
   "outputs": [
    {
     "data": {
      "text/plain": "<Figure size 720x360 with 1 Axes>",
      "image/png": "[encoded data removed]"
     },
     "metadata": {},
     "output_type": "display_data"
    }
   ]
  },
  {
   "metadata": {
    "trusted": true
   },
   "cell_type": "code",
   "source": "# Number of unique user id and product id in the data\nprint('Number of unique USERS in Raw data = ', df['UserId'].nunique())\nprint('Number of unique ITEMS in Raw data = ', df['ProductId'].nunique())",
   "execution_count": 25,
   "outputs": [
    {
     "name": "stdout",
     "output_type": "stream",
     "text": [
      "Number of unique USERS in Raw data =  256059\n",
      "Number of unique ITEMS in Raw data =  74258\n"
     ]
    }
   ]
  },
  {
   "metadata": {},
   "cell_type": "markdown",
   "source": "### Take subset of dataset to make it less sparse/more dense. ( For example, keep the users only who has given 50 or more number of ratings )"
  },
  {
   "metadata": {
    "trusted": true
   },
   "cell_type": "code",
   "source": "# Top 10 users based on rating\nmost_rated = df.groupby('UserId').size().sort_values(ascending=False)[:10]\nmost_rated",
   "execution_count": 26,
   "outputs": [
    {
     "data": {
      "text/plain": "UserId\nA3OXHLG6DIBRW8    448\nA1YUL9PCJR3JTY    421\nAY12DBB0U420B     389\nA281NPSIMI1C2R    365\nA1Z54EM24Y40LL    256\nA1TMAVN4CEM8U8    204\nA2MUGFV2TDQ47K    201\nA3TVZM3ZIXG8YW    199\nA3PJZ8TU8FDQ1K    178\nAQQLWCMRNDFGI     176\ndtype: int64"
     },
     "execution_count": 26,
     "metadata": {},
     "output_type": "execute_result"
    }
   ]
  },
  {
   "metadata": {},
   "cell_type": "markdown",
   "source": "### Data model preparation as per requirement on number of minimum ratings\n"
  },
  {
   "metadata": {
    "trusted": true
   },
   "cell_type": "code",
   "source": "counts = df['UserId'].value_counts()\ndf_final = df[df['UserId'].isin(counts[counts >= 50].index)]",
   "execution_count": 27,
   "outputs": []
  },
  {
   "metadata": {
    "trusted": true
   },
   "cell_type": "code",
   "source": "df_final.head()",
   "execution_count": 28,
   "outputs": [
    {
     "data": {
      "text/plain": "      ProductId          UserId  Score\n14   B001GVISJM  A2MUGFV2TDQ47K      5\n44   B001EO5QW8  A2G7B7FKP2O2PU      5\n46   B001EO5QW8   AQLL2R1PPR46X      5\n109  B001REEG6C   AY12DBB0U420B      5\n141  B001GVISJW  A2YIO225BTKVPU      4",
      "text/html": "<div>\n<style scoped>\n    .dataframe tbody tr th:only-of-type {\n        vertical-align: middle;\n    }\n\n    .dataframe tbody tr th {\n        vertical-align: top;\n    }\n\n    .dataframe thead th {\n        text-align: right;\n    }\n</style>\n<table border=\"1\" class=\"dataframe\">\n  <thead>\n    <tr style=\"text-align: right;\">\n      <th></th>\n      <th>ProductId</th>\n      <th>UserId</th>\n      <th>Score</th>\n    </tr>\n  </thead>\n  <tbody>\n    <tr>\n      <th>14</th>\n      <td>B001GVISJM</td>\n      <td>A2MUGFV2TDQ47K</td>\n      <td>5</td>\n    </tr>\n    <tr>\n      <th>44</th>\n      <td>B001EO5QW8</td>\n      <td>A2G7B7FKP2O2PU</td>\n      <td>5</td>\n    </tr>\n    <tr>\n      <th>46</th>\n      <td>B001EO5QW8</td>\n      <td>AQLL2R1PPR46X</td>\n      <td>5</td>\n    </tr>\n    <tr>\n      <th>109</th>\n      <td>B001REEG6C</td>\n      <td>AY12DBB0U420B</td>\n      <td>5</td>\n    </tr>\n    <tr>\n      <th>141</th>\n      <td>B001GVISJW</td>\n      <td>A2YIO225BTKVPU</td>\n      <td>4</td>\n    </tr>\n  </tbody>\n</table>\n</div>"
     },
     "execution_count": 28,
     "metadata": {},
     "output_type": "execute_result"
    }
   ]
  },
  {
   "metadata": {
    "trusted": true
   },
   "cell_type": "code",
   "source": "print('Number of users who have rated 50 or more items =', len(df_final))\nprint('Number of unique USERS in final data = ', df_final['UserId'].nunique())\nprint('Number of unique ITEMS in final data = ', df_final['ProductId'].nunique())",
   "execution_count": 29,
   "outputs": [
    {
     "name": "stdout",
     "output_type": "stream",
     "text": [
      "Number of users who have rated 50 or more items = 22941\n",
      "Number of unique USERS in final data =  267\n",
      "Number of unique ITEMS in final data =  11313\n"
     ]
    }
   ]
  },
  {
   "metadata": {},
   "cell_type": "markdown",
   "source": "#### df_final has users  who have rated 50 or more items"
  },
  {
   "metadata": {},
   "cell_type": "markdown",
   "source": "#### Calculate the density of the rating matrix"
  },
  {
   "metadata": {
    "trusted": true
   },
   "cell_type": "code",
   "source": "\nfinal_ratings_matrix = pd.pivot_table(df_final,index=['UserId'], columns = 'ProductId', values = \"Score\")\nfinal_ratings_matrix.fillna(0,inplace=True)\nprint('Shape of final_ratings_matrix: ', final_ratings_matrix.shape)\ngiven_num_of_ratings = np.count_nonzero(final_ratings_matrix)\nprint('given_num_of_ratings = ', given_num_of_ratings)\npossible_num_of_ratings = final_ratings_matrix.shape[0] * final_ratings_matrix.shape[1]\nprint('possible_num_of_ratings = ', possible_num_of_ratings)\ndensity = (given_num_of_ratings/possible_num_of_ratings)\ndensity *= 100\nprint ('density: {:4.2f}%'.format(density))",
   "execution_count": 30,
   "outputs": [
    {
     "name": "stdout",
     "output_type": "stream",
     "text": [
      "Shape of final_ratings_matrix:  (267, 11313)\n",
      "given_num_of_ratings =  20829\n",
      "possible_num_of_ratings =  3020571\n",
      "density: 0.69%\n"
     ]
    }
   ]
  },
  {
   "metadata": {
    "trusted": true
   },
   "cell_type": "code",
   "source": "final_ratings_matrix.tail()",
   "execution_count": 31,
   "outputs": [
    {
     "data": {
      "text/plain": "ProductId      7310172001  7310172101  7800648702  B00004CI84  B00004CXX9  \\\nUserId                                                                      \nAY1EF0GOH80EK         0.0         0.0         0.0         0.0         0.0   \nAYB4ELCS5AM8P         0.0         0.0         0.0         0.0         0.0   \nAYGJ96W5KQMUJ         0.0         0.0         0.0         0.0         0.0   \nAYOMAHLWRQHUG         0.0         0.0         0.0         0.0         0.0   \nAZV26LP92E6WU         0.0         0.0         0.0         0.0         0.0   \n\nProductId      B00004RBDU  B00004RBDZ  B00004RYGX  B00004S1C6  B000052Y74  \\\nUserId                                                                      \nAY1EF0GOH80EK         0.0         0.0         0.0         0.0         0.0   \nAYB4ELCS5AM8P         0.0         0.0         0.0         0.0         0.0   \nAYGJ96W5KQMUJ         0.0         0.0         0.0         0.0         0.0   \nAYOMAHLWRQHUG         0.0         0.0         0.0         0.0         0.0   \nAZV26LP92E6WU         0.0         0.0         0.0         0.0         0.0   \n\nProductId      ...  B009KAQZ9G  B009KAQZIM  B009KOHGEK  B009KP6HBM  \\\nUserId         ...                                                   \nAY1EF0GOH80EK  ...         0.0         0.0         0.0         0.0   \nAYB4ELCS5AM8P  ...         0.0         0.0         0.0         0.0   \nAYGJ96W5KQMUJ  ...         0.0         0.0         0.0         0.0   \nAYOMAHLWRQHUG  ...         0.0         0.0         0.0         0.0   \nAZV26LP92E6WU  ...         0.0         0.0         0.0         0.0   \n\nProductId      B009LRLB6U  B009LT26BC  B009M2LUEW  B009PCDDO4  B009QEBGIQ  \\\nUserId                                                                      \nAY1EF0GOH80EK         0.0         0.0         0.0         0.0         0.0   \nAYB4ELCS5AM8P         0.0         0.0         0.0         0.0         0.0   \nAYGJ96W5KQMUJ         0.0         0.0         0.0         0.0         0.0   \nAYOMAHLWRQHUG         0.0         0.0         0.0         0.0         0.0   \nAZV26LP92E6WU         0.0         0.0         0.0         0.0         0.0   \n\nProductId      B009RB4GO4  \nUserId                     \nAY1EF0GOH80EK         0.0  \nAYB4ELCS5AM8P         0.0  \nAYGJ96W5KQMUJ         0.0  \nAYOMAHLWRQHUG         0.0  \nAZV26LP92E6WU         0.0  \n\n[5 rows x 11313 columns]",
      "text/html": "<div>\n<style scoped>\n    .dataframe tbody tr th:only-of-type {\n        vertical-align: middle;\n    }\n\n    .dataframe tbody tr th {\n        vertical-align: top;\n    }\n\n    .dataframe thead th {\n        text-align: right;\n    }\n</style>\n<table border=\"1\" class=\"dataframe\">\n  <thead>\n    <tr style=\"text-align: right;\">\n      <th>ProductId</th>\n      <th>7310172001</th>\n      <th>7310172101</th>\n      <th>7800648702</th>\n      <th>B00004CI84</th>\n      <th>B00004CXX9</th>\n      <th>B00004RBDU</th>\n      <th>B00004RBDZ</th>\n      <th>B00004RYGX</th>\n      <th>B00004S1C6</th>\n      <th>B000052Y74</th>\n      <th>...</th>\n      <th>B009KAQZ9G</th>\n      <th>B009KAQZIM</th>\n      <th>B009KOHGEK</th>\n      <th>B009KP6HBM</th>\n      <th>B009LRLB6U</th>\n      <th>B009LT26BC</th>\n      <th>B009M2LUEW</th>\n      <th>B009PCDDO4</th>\n      <th>B009QEBGIQ</th>\n      <th>B009RB4GO4</th>\n    </tr>\n    <tr>\n      <th>UserId</th>\n      <th></th>\n      <th></th>\n      <th></th>\n      <th></th>\n      <th></th>\n      <th></th>\n      <th></th>\n      <th></th>\n      <th></th>\n      <th></th>\n      <th></th>\n      <th></th>\n      <th></th>\n      <th></th>\n      <th></th>\n      <th></th>\n      <th></th>\n      <th></th>\n      <th></th>\n      <th></th>\n      <th></th>\n    </tr>\n  </thead>\n  <tbody>\n    <tr>\n      <th>AY1EF0GOH80EK</th>\n      <td>0.0</td>\n      <td>0.0</td>\n      <td>0.0</td>\n      <td>0.0</td>\n      <td>0.0</td>\n      <td>0.0</td>\n      <td>0.0</td>\n      <td>0.0</td>\n      <td>0.0</td>\n      <td>0.0</td>\n      <td>...</td>\n      <td>0.0</td>\n      <td>0.0</td>\n      <td>0.0</td>\n      <td>0.0</td>\n      <td>0.0</td>\n      <td>0.0</td>\n      <td>0.0</td>\n      <td>0.0</td>\n      <td>0.0</td>\n      <td>0.0</td>\n    </tr>\n    <tr>\n      <th>AYB4ELCS5AM8P</th>\n      <td>0.0</td>\n      <td>0.0</td>\n      <td>0.0</td>\n      <td>0.0</td>\n      <td>0.0</td>\n      <td>0.0</td>\n      <td>0.0</td>\n      <td>0.0</td>\n      <td>0.0</td>\n      <td>0.0</td>\n      <td>...</td>\n      <td>0.0</td>\n      <td>0.0</td>\n      <td>0.0</td>\n      <td>0.0</td>\n      <td>0.0</td>\n      <td>0.0</td>\n      <td>0.0</td>\n      <td>0.0</td>\n      <td>0.0</td>\n      <td>0.0</td>\n    </tr>\n    <tr>\n      <th>AYGJ96W5KQMUJ</th>\n      <td>0.0</td>\n      <td>0.0</td>\n      <td>0.0</td>\n      <td>0.0</td>\n      <td>0.0</td>\n      <td>0.0</td>\n      <td>0.0</td>\n      <td>0.0</td>\n      <td>0.0</td>\n      <td>0.0</td>\n      <td>...</td>\n      <td>0.0</td>\n      <td>0.0</td>\n      <td>0.0</td>\n      <td>0.0</td>\n      <td>0.0</td>\n      <td>0.0</td>\n      <td>0.0</td>\n      <td>0.0</td>\n      <td>0.0</td>\n      <td>0.0</td>\n    </tr>\n    <tr>\n      <th>AYOMAHLWRQHUG</th>\n      <td>0.0</td>\n      <td>0.0</td>\n      <td>0.0</td>\n      <td>0.0</td>\n      <td>0.0</td>\n      <td>0.0</td>\n      <td>0.0</td>\n      <td>0.0</td>\n      <td>0.0</td>\n      <td>0.0</td>\n      <td>...</td>\n      <td>0.0</td>\n      <td>0.0</td>\n      <td>0.0</td>\n      <td>0.0</td>\n      <td>0.0</td>\n      <td>0.0</td>\n      <td>0.0</td>\n      <td>0.0</td>\n      <td>0.0</td>\n      <td>0.0</td>\n    </tr>\n    <tr>\n      <th>AZV26LP92E6WU</th>\n      <td>0.0</td>\n      <td>0.0</td>\n      <td>0.0</td>\n      <td>0.0</td>\n      <td>0.0</td>\n      <td>0.0</td>\n      <td>0.0</td>\n      <td>0.0</td>\n      <td>0.0</td>\n      <td>0.0</td>\n      <td>...</td>\n      <td>0.0</td>\n      <td>0.0</td>\n      <td>0.0</td>\n      <td>0.0</td>\n      <td>0.0</td>\n      <td>0.0</td>\n      <td>0.0</td>\n      <td>0.0</td>\n      <td>0.0</td>\n      <td>0.0</td>\n    </tr>\n  </tbody>\n</table>\n<p>5 rows × 11313 columns</p>\n</div>"
     },
     "execution_count": 31,
     "metadata": {},
     "output_type": "execute_result"
    }
   ]
  },
  {
   "metadata": {
    "trusted": true
   },
   "cell_type": "code",
   "source": "# Matrix with one row per 'Product' and one column per 'user' for Item-based CF\nfinal_ratings_matrix_T = final_ratings_matrix.transpose()\nfinal_ratings_matrix_T.head()",
   "execution_count": 32,
   "outputs": [
    {
     "data": {
      "text/plain": "UserId      A100WO06OQR8BQ  A106ZCP7RSXMRU  A1080SE9X3ECK0  A10G136JEISLVR  \\\nProductId                                                                    \n7310172001             0.0             0.0             0.0             0.0   \n7310172101             0.0             0.0             0.0             0.0   \n7800648702             0.0             0.0             0.0             0.0   \nB00004CI84             0.0             0.0             0.0             0.0   \nB00004CXX9             0.0             0.0             0.0             0.0   \n\nUserId      A11ED8O95W2103  A11OTLEDSW8ZXD  A12ENBT314RFXR  A132ETQPMHQ585  \\\nProductId                                                                    \n7310172001             0.0             0.0             0.0             0.0   \n7310172101             0.0             0.0             0.0             0.0   \n7800648702             0.0             0.0             0.0             0.0   \nB00004CI84             0.0             0.0             0.0             0.0   \nB00004CXX9             0.0             0.0             0.0             0.0   \n\nUserId      A13GZCHAMKWYBT  A13HRSMJ5TOWEZ  ...  ATJN4KEHJBOC8  AVFA1JB08RG8G  \\\nProductId                                   ...                                 \n7310172001             0.0             0.0  ...            0.0            0.0   \n7310172101             0.0             0.0  ...            0.0            0.0   \n7800648702             0.0             0.0  ...            0.0            0.0   \nB00004CI84             0.0             0.0  ...            0.0            0.0   \nB00004CXX9             0.0             0.0  ...            0.0            0.0   \n\nUserId      AWKZAUC0D8DYL  AXO4PQU0XG3TG  AY12DBB0U420B  AY1EF0GOH80EK  \\\nProductId                                                                \n7310172001            0.0            0.0            0.0            0.0   \n7310172101            0.0            0.0            0.0            0.0   \n7800648702            0.0            0.0            0.0            0.0   \nB00004CI84            0.0            0.0            3.0            0.0   \nB00004CXX9            0.0            0.0            3.0            0.0   \n\nUserId      AYB4ELCS5AM8P  AYGJ96W5KQMUJ  AYOMAHLWRQHUG  AZV26LP92E6WU  \nProductId                                                               \n7310172001            0.0            0.0            0.0            0.0  \n7310172101            0.0            0.0            0.0            0.0  \n7800648702            0.0            0.0            0.0            0.0  \nB00004CI84            0.0            0.0            0.0            0.0  \nB00004CXX9            0.0            0.0            0.0            0.0  \n\n[5 rows x 267 columns]",
      "text/html": "<div>\n<style scoped>\n    .dataframe tbody tr th:only-of-type {\n        vertical-align: middle;\n    }\n\n    .dataframe tbody tr th {\n        vertical-align: top;\n    }\n\n    .dataframe thead th {\n        text-align: right;\n    }\n</style>\n<table border=\"1\" class=\"dataframe\">\n  <thead>\n    <tr style=\"text-align: right;\">\n      <th>UserId</th>\n      <th>A100WO06OQR8BQ</th>\n      <th>A106ZCP7RSXMRU</th>\n      <th>A1080SE9X3ECK0</th>\n      <th>A10G136JEISLVR</th>\n      <th>A11ED8O95W2103</th>\n      <th>A11OTLEDSW8ZXD</th>\n      <th>A12ENBT314RFXR</th>\n      <th>A132ETQPMHQ585</th>\n      <th>A13GZCHAMKWYBT</th>\n      <th>A13HRSMJ5TOWEZ</th>\n      <th>...</th>\n      <th>ATJN4KEHJBOC8</th>\n      <th>AVFA1JB08RG8G</th>\n      <th>AWKZAUC0D8DYL</th>\n      <th>AXO4PQU0XG3TG</th>\n      <th>AY12DBB0U420B</th>\n      <th>AY1EF0GOH80EK</th>\n      <th>AYB4ELCS5AM8P</th>\n      <th>AYGJ96W5KQMUJ</th>\n      <th>AYOMAHLWRQHUG</th>\n      <th>AZV26LP92E6WU</th>\n    </tr>\n    <tr>\n      <th>ProductId</th>\n      <th></th>\n      <th></th>\n      <th></th>\n      <th></th>\n      <th></th>\n      <th></th>\n      <th></th>\n      <th></th>\n      <th></th>\n      <th></th>\n      <th></th>\n      <th></th>\n      <th></th>\n      <th></th>\n      <th></th>\n      <th></th>\n      <th></th>\n      <th></th>\n      <th></th>\n      <th></th>\n      <th></th>\n    </tr>\n  </thead>\n  <tbody>\n    <tr>\n      <th>7310172001</th>\n      <td>0.0</td>\n      <td>0.0</td>\n      <td>0.0</td>\n      <td>0.0</td>\n      <td>0.0</td>\n      <td>0.0</td>\n      <td>0.0</td>\n      <td>0.0</td>\n      <td>0.0</td>\n      <td>0.0</td>\n      <td>...</td>\n      <td>0.0</td>\n      <td>0.0</td>\n      <td>0.0</td>\n      <td>0.0</td>\n      <td>0.0</td>\n      <td>0.0</td>\n      <td>0.0</td>\n      <td>0.0</td>\n      <td>0.0</td>\n      <td>0.0</td>\n    </tr>\n    <tr>\n      <th>7310172101</th>\n      <td>0.0</td>\n      <td>0.0</td>\n      <td>0.0</td>\n      <td>0.0</td>\n      <td>0.0</td>\n      <td>0.0</td>\n      <td>0.0</td>\n      <td>0.0</td>\n      <td>0.0</td>\n      <td>0.0</td>\n      <td>...</td>\n      <td>0.0</td>\n      <td>0.0</td>\n      <td>0.0</td>\n      <td>0.0</td>\n      <td>0.0</td>\n      <td>0.0</td>\n      <td>0.0</td>\n      <td>0.0</td>\n      <td>0.0</td>\n      <td>0.0</td>\n    </tr>\n    <tr>\n      <th>7800648702</th>\n      <td>0.0</td>\n      <td>0.0</td>\n      <td>0.0</td>\n      <td>0.0</td>\n      <td>0.0</td>\n      <td>0.0</td>\n      <td>0.0</td>\n      <td>0.0</td>\n      <td>0.0</td>\n      <td>0.0</td>\n      <td>...</td>\n      <td>0.0</td>\n      <td>0.0</td>\n      <td>0.0</td>\n      <td>0.0</td>\n      <td>0.0</td>\n      <td>0.0</td>\n      <td>0.0</td>\n      <td>0.0</td>\n      <td>0.0</td>\n      <td>0.0</td>\n    </tr>\n    <tr>\n      <th>B00004CI84</th>\n      <td>0.0</td>\n      <td>0.0</td>\n      <td>0.0</td>\n      <td>0.0</td>\n      <td>0.0</td>\n      <td>0.0</td>\n      <td>0.0</td>\n      <td>0.0</td>\n      <td>0.0</td>\n      <td>0.0</td>\n      <td>...</td>\n      <td>0.0</td>\n      <td>0.0</td>\n      <td>0.0</td>\n      <td>0.0</td>\n      <td>3.0</td>\n      <td>0.0</td>\n      <td>0.0</td>\n      <td>0.0</td>\n      <td>0.0</td>\n      <td>0.0</td>\n    </tr>\n    <tr>\n      <th>B00004CXX9</th>\n      <td>0.0</td>\n      <td>0.0</td>\n      <td>0.0</td>\n      <td>0.0</td>\n      <td>0.0</td>\n      <td>0.0</td>\n      <td>0.0</td>\n      <td>0.0</td>\n      <td>0.0</td>\n      <td>0.0</td>\n      <td>...</td>\n      <td>0.0</td>\n      <td>0.0</td>\n      <td>0.0</td>\n      <td>0.0</td>\n      <td>3.0</td>\n      <td>0.0</td>\n      <td>0.0</td>\n      <td>0.0</td>\n      <td>0.0</td>\n      <td>0.0</td>\n    </tr>\n  </tbody>\n</table>\n<p>5 rows × 267 columns</p>\n</div>"
     },
     "execution_count": 32,
     "metadata": {},
     "output_type": "execute_result"
    }
   ]
  },
  {
   "metadata": {},
   "cell_type": "markdown",
   "source": "### Split the data randomly into train and test dataset. ( For example split it in 70/30 ratio)"
  },
  {
   "metadata": {
    "trusted": true
   },
   "cell_type": "code",
   "source": "#Split the training and test data in the ratio 70:30\ntrain_data, test_data = train_test_split(df_final, test_size = 0.3, random_state=0)\n\nprint(train_data.head(5))",
   "execution_count": 33,
   "outputs": [
    {
     "name": "stdout",
     "output_type": "stream",
     "text": [
      "         ProductId          UserId  Score\n",
      "399863  B002IEVJRY  A1N5FSCYN4796F      3\n",
      "20262   B001BDDTB2  A1Q7A78VSQ5GQ4      5\n",
      "139611  B001BCXTGS  A2PNOU7NXB1JE4      3\n",
      "455504  B005HG9ERW  A2SZLNSI5KOQJT      3\n",
      "512008  B0028PDER6   ALSAOZ1V546VT      5\n"
     ]
    }
   ]
  },
  {
   "metadata": {
    "trusted": true
   },
   "cell_type": "code",
   "source": "def shape():\n    print(\"Test data shape: \", test_data.shape)\n    print(\"Train data shape: \", train_data.shape)\nshape() ",
   "execution_count": 34,
   "outputs": [
    {
     "name": "stdout",
     "output_type": "stream",
     "text": [
      "Test data shape:  (6883, 3)\n",
      "Train data shape:  (16058, 3)\n"
     ]
    }
   ]
  },
  {
   "metadata": {},
   "cell_type": "markdown",
   "source": "# Build Popularity Recommender model. (Non-personalised)"
  },
  {
   "metadata": {
    "trusted": true
   },
   "cell_type": "code",
   "source": "#Count of user_id for each unique product as recommendation score \ntrain_data_grouped = train_data.groupby('ProductId').agg({'UserId': 'count'}).reset_index()\ntrain_data_grouped.rename(columns = {'UserId': 'score'},inplace=True)\ntrain_data_grouped.head()",
   "execution_count": 35,
   "outputs": [
    {
     "data": {
      "text/plain": "    ProductId  score\n0  7310172001      5\n1  7310172101      5\n2  7800648702      1\n3  B00004CI84      2\n4  B00004CXX9      3",
      "text/html": "<div>\n<style scoped>\n    .dataframe tbody tr th:only-of-type {\n        vertical-align: middle;\n    }\n\n    .dataframe tbody tr th {\n        vertical-align: top;\n    }\n\n    .dataframe thead th {\n        text-align: right;\n    }\n</style>\n<table border=\"1\" class=\"dataframe\">\n  <thead>\n    <tr style=\"text-align: right;\">\n      <th></th>\n      <th>ProductId</th>\n      <th>score</th>\n    </tr>\n  </thead>\n  <tbody>\n    <tr>\n      <th>0</th>\n      <td>7310172001</td>\n      <td>5</td>\n    </tr>\n    <tr>\n      <th>1</th>\n      <td>7310172101</td>\n      <td>5</td>\n    </tr>\n    <tr>\n      <th>2</th>\n      <td>7800648702</td>\n      <td>1</td>\n    </tr>\n    <tr>\n      <th>3</th>\n      <td>B00004CI84</td>\n      <td>2</td>\n    </tr>\n    <tr>\n      <th>4</th>\n      <td>B00004CXX9</td>\n      <td>3</td>\n    </tr>\n  </tbody>\n</table>\n</div>"
     },
     "execution_count": 35,
     "metadata": {},
     "output_type": "execute_result"
    }
   ]
  },
  {
   "metadata": {
    "trusted": true
   },
   "cell_type": "code",
   "source": "#Sort the products on recommendation score \ntrain_data_sort = train_data_grouped.sort_values(['score', 'ProductId'], ascending = [0,1]) \n      \n#Generate a recommendation rank based upon score \ntrain_data_sort['Rank'] = train_data_sort['score'].rank(ascending=0, method='first') \n          \n#Get the top 5 recommendations \npopularity_recommendations = train_data_sort.head(5) \npopularity_recommendations ",
   "execution_count": 36,
   "outputs": [
    {
     "data": {
      "text/plain": "       ProductId  score  Rank\n5621  B002IEZJMA     48   1.0\n8130  B006MONQMC     42   2.0\n5620  B002IEVJRY     41   3.0\n6779  B0041NYV8E     39   4.0\n7876  B005HG9ET0     39   5.0",
      "text/html": "<div>\n<style scoped>\n    .dataframe tbody tr th:only-of-type {\n        vertical-align: middle;\n    }\n\n    .dataframe tbody tr th {\n        vertical-align: top;\n    }\n\n    .dataframe thead th {\n        text-align: right;\n    }\n</style>\n<table border=\"1\" class=\"dataframe\">\n  <thead>\n    <tr style=\"text-align: right;\">\n      <th></th>\n      <th>ProductId</th>\n      <th>score</th>\n      <th>Rank</th>\n    </tr>\n  </thead>\n  <tbody>\n    <tr>\n      <th>5621</th>\n      <td>B002IEZJMA</td>\n      <td>48</td>\n      <td>1.0</td>\n    </tr>\n    <tr>\n      <th>8130</th>\n      <td>B006MONQMC</td>\n      <td>42</td>\n      <td>2.0</td>\n    </tr>\n    <tr>\n      <th>5620</th>\n      <td>B002IEVJRY</td>\n      <td>41</td>\n      <td>3.0</td>\n    </tr>\n    <tr>\n      <th>6779</th>\n      <td>B0041NYV8E</td>\n      <td>39</td>\n      <td>4.0</td>\n    </tr>\n    <tr>\n      <th>7876</th>\n      <td>B005HG9ET0</td>\n      <td>39</td>\n      <td>5.0</td>\n    </tr>\n  </tbody>\n</table>\n</div>"
     },
     "execution_count": 36,
     "metadata": {},
     "output_type": "execute_result"
    }
   ]
  },
  {
   "metadata": {
    "trusted": true
   },
   "cell_type": "code",
   "source": "# Use popularity based recommender model to make predictions\ndef recommend(user_id):     \n    user_recommendations = popularity_recommendations \n          \n    #Add user_id column for which the recommendations are being generated \n    user_recommendations['UserId'] = user_id \n      \n    #Bring user_id column to the front \n    cols = user_recommendations.columns.tolist() \n    cols = cols[-1:] + cols[:-1] \n    user_recommendations = user_recommendations[cols] \n          \n    return user_recommendations",
   "execution_count": 37,
   "outputs": []
  },
  {
   "metadata": {
    "trusted": true
   },
   "cell_type": "code",
   "source": "find_recom = [15,121,200]   # This list is user choice.\nfor i in find_recom:\n    print(\"Here is the recommendation for the userId: %d\\n\" %(i))\n    print(recommend(i))    \n    print(\"\\n\") ",
   "execution_count": 38,
   "outputs": [
    {
     "name": "stdout",
     "output_type": "stream",
     "text": [
      "Here is the recommendation for the userId: 15\n",
      "\n",
      "      UserId   ProductId  score  Rank\n",
      "5621      15  B002IEZJMA     48   1.0\n",
      "8130      15  B006MONQMC     42   2.0\n",
      "5620      15  B002IEVJRY     41   3.0\n",
      "6779      15  B0041NYV8E     39   4.0\n",
      "7876      15  B005HG9ET0     39   5.0\n",
      "\n",
      "\n",
      "Here is the recommendation for the userId: 121\n",
      "\n",
      "      UserId   ProductId  score  Rank\n",
      "5621     121  B002IEZJMA     48   1.0\n",
      "8130     121  B006MONQMC     42   2.0\n",
      "5620     121  B002IEVJRY     41   3.0\n",
      "6779     121  B0041NYV8E     39   4.0\n",
      "7876     121  B005HG9ET0     39   5.0\n",
      "\n",
      "\n",
      "Here is the recommendation for the userId: 200\n",
      "\n",
      "      UserId   ProductId  score  Rank\n",
      "5621     200  B002IEZJMA     48   1.0\n",
      "8130     200  B006MONQMC     42   2.0\n",
      "5620     200  B002IEVJRY     41   3.0\n",
      "6779     200  B0041NYV8E     39   4.0\n",
      "7876     200  B005HG9ET0     39   5.0\n",
      "\n",
      "\n"
     ]
    }
   ]
  },
  {
   "metadata": {
    "trusted": true
   },
   "cell_type": "code",
   "source": "print('Since this is a popularity-based recommender model, recommendations remain the same for all users')\nprint('\\nWe predict the products based on the popularity. It is not personalized to particular user')",
   "execution_count": 39,
   "outputs": [
    {
     "name": "stdout",
     "output_type": "stream",
     "text": [
      "Since this is a popularity-based recommender model, recommendations remain the same for all users\n",
      "\n",
      "We predict the products based on the popularity. It is not personalized to particular user\n"
     ]
    }
   ]
  },
  {
   "metadata": {},
   "cell_type": "markdown",
   "source": "# Build Collaborative Filtering model."
  },
  {
   "metadata": {},
   "cell_type": "markdown",
   "source": "#### Model-based Collaborative Filtering: Singular Value Decomposition"
  },
  {
   "metadata": {
    "trusted": true
   },
   "cell_type": "code",
   "source": "df_CF = pd.concat([train_data, test_data]).reset_index()\ndf_CF.tail()",
   "execution_count": 40,
   "outputs": [
    {
     "data": {
      "text/plain": "        index   ProductId          UserId  Score\n22936  275741  B001M23WVY   AY1EF0GOH80EK      2\n22937  281102  B002R8SLUY  A16AXQ11SZA8SQ      5\n22938  205589  B00473PVVO  A281NPSIMI1C2R      5\n22939  303238  B0002DGRZC   AJD41FBJD9010      5\n22940   36703  B000EEWZD2  A2M9D9BDHONV3Y      3",
      "text/html": "<div>\n<style scoped>\n    .dataframe tbody tr th:only-of-type {\n        vertical-align: middle;\n    }\n\n    .dataframe tbody tr th {\n        vertical-align: top;\n    }\n\n    .dataframe thead th {\n        text-align: right;\n    }\n</style>\n<table border=\"1\" class=\"dataframe\">\n  <thead>\n    <tr style=\"text-align: right;\">\n      <th></th>\n      <th>index</th>\n      <th>ProductId</th>\n      <th>UserId</th>\n      <th>Score</th>\n    </tr>\n  </thead>\n  <tbody>\n    <tr>\n      <th>22936</th>\n      <td>275741</td>\n      <td>B001M23WVY</td>\n      <td>AY1EF0GOH80EK</td>\n      <td>2</td>\n    </tr>\n    <tr>\n      <th>22937</th>\n      <td>281102</td>\n      <td>B002R8SLUY</td>\n      <td>A16AXQ11SZA8SQ</td>\n      <td>5</td>\n    </tr>\n    <tr>\n      <th>22938</th>\n      <td>205589</td>\n      <td>B00473PVVO</td>\n      <td>A281NPSIMI1C2R</td>\n      <td>5</td>\n    </tr>\n    <tr>\n      <th>22939</th>\n      <td>303238</td>\n      <td>B0002DGRZC</td>\n      <td>AJD41FBJD9010</td>\n      <td>5</td>\n    </tr>\n    <tr>\n      <th>22940</th>\n      <td>36703</td>\n      <td>B000EEWZD2</td>\n      <td>A2M9D9BDHONV3Y</td>\n      <td>3</td>\n    </tr>\n  </tbody>\n</table>\n</div>"
     },
     "execution_count": 40,
     "metadata": {},
     "output_type": "execute_result"
    }
   ]
  },
  {
   "metadata": {
    "trusted": true
   },
   "cell_type": "code",
   "source": "#User-based Collaborative Filtering\n# Matrix with row per 'user' and column per 'item' \npivot_df = pd.pivot_table(df_CF,index=['UserId'], columns = 'ProductId', values = \"Score\")\npivot_df.fillna(0,inplace=True)\nprint(pivot_df.shape)\npivot_df.head()",
   "execution_count": 41,
   "outputs": [
    {
     "name": "stdout",
     "output_type": "stream",
     "text": [
      "(267, 11313)\n"
     ]
    },
    {
     "data": {
      "text/plain": "ProductId       7310172001  7310172101  7800648702  B00004CI84  B00004CXX9  \\\nUserId                                                                       \nA100WO06OQR8BQ         0.0         0.0         0.0         0.0         0.0   \nA106ZCP7RSXMRU         0.0         0.0         0.0         0.0         0.0   \nA1080SE9X3ECK0         0.0         0.0         0.0         0.0         0.0   \nA10G136JEISLVR         0.0         0.0         0.0         0.0         0.0   \nA11ED8O95W2103         0.0         0.0         0.0         0.0         0.0   \n\nProductId       B00004RBDU  B00004RBDZ  B00004RYGX  B00004S1C6  B000052Y74  \\\nUserId                                                                       \nA100WO06OQR8BQ         1.0         0.0         0.0         0.0         0.0   \nA106ZCP7RSXMRU         0.0         0.0         0.0         0.0         0.0   \nA1080SE9X3ECK0         0.0         0.0         0.0         0.0         0.0   \nA10G136JEISLVR         0.0         0.0         0.0         0.0         0.0   \nA11ED8O95W2103         0.0         0.0         0.0         0.0         0.0   \n\nProductId       ...  B009KAQZ9G  B009KAQZIM  B009KOHGEK  B009KP6HBM  \\\nUserId          ...                                                   \nA100WO06OQR8BQ  ...         0.0         0.0         0.0         0.0   \nA106ZCP7RSXMRU  ...         0.0         0.0         0.0         0.0   \nA1080SE9X3ECK0  ...         0.0         0.0         0.0         0.0   \nA10G136JEISLVR  ...         0.0         0.0         0.0         0.0   \nA11ED8O95W2103  ...         0.0         0.0         0.0         0.0   \n\nProductId       B009LRLB6U  B009LT26BC  B009M2LUEW  B009PCDDO4  B009QEBGIQ  \\\nUserId                                                                       \nA100WO06OQR8BQ         0.0         0.0         0.0         0.0         0.0   \nA106ZCP7RSXMRU         0.0         0.0         0.0         0.0         0.0   \nA1080SE9X3ECK0         0.0         0.0         0.0         0.0         0.0   \nA10G136JEISLVR         0.0         0.0         0.0         0.0         0.0   \nA11ED8O95W2103         0.0         0.0         0.0         0.0         0.0   \n\nProductId       B009RB4GO4  \nUserId                      \nA100WO06OQR8BQ         0.0  \nA106ZCP7RSXMRU         0.0  \nA1080SE9X3ECK0         0.0  \nA10G136JEISLVR         0.0  \nA11ED8O95W2103         0.0  \n\n[5 rows x 11313 columns]",
      "text/html": "<div>\n<style scoped>\n    .dataframe tbody tr th:only-of-type {\n        vertical-align: middle;\n    }\n\n    .dataframe tbody tr th {\n        vertical-align: top;\n    }\n\n    .dataframe thead th {\n        text-align: right;\n    }\n</style>\n<table border=\"1\" class=\"dataframe\">\n  <thead>\n    <tr style=\"text-align: right;\">\n      <th>ProductId</th>\n      <th>7310172001</th>\n      <th>7310172101</th>\n      <th>7800648702</th>\n      <th>B00004CI84</th>\n      <th>B00004CXX9</th>\n      <th>B00004RBDU</th>\n      <th>B00004RBDZ</th>\n      <th>B00004RYGX</th>\n      <th>B00004S1C6</th>\n      <th>B000052Y74</th>\n      <th>...</th>\n      <th>B009KAQZ9G</th>\n      <th>B009KAQZIM</th>\n      <th>B009KOHGEK</th>\n      <th>B009KP6HBM</th>\n      <th>B009LRLB6U</th>\n      <th>B009LT26BC</th>\n      <th>B009M2LUEW</th>\n      <th>B009PCDDO4</th>\n      <th>B009QEBGIQ</th>\n      <th>B009RB4GO4</th>\n    </tr>\n    <tr>\n      <th>UserId</th>\n      <th></th>\n      <th></th>\n      <th></th>\n      <th></th>\n      <th></th>\n      <th></th>\n      <th></th>\n      <th></th>\n      <th></th>\n      <th></th>\n      <th></th>\n      <th></th>\n      <th></th>\n      <th></th>\n      <th></th>\n      <th></th>\n      <th></th>\n      <th></th>\n      <th></th>\n      <th></th>\n      <th></th>\n    </tr>\n  </thead>\n  <tbody>\n    <tr>\n      <th>A100WO06OQR8BQ</th>\n      <td>0.0</td>\n      <td>0.0</td>\n      <td>0.0</td>\n      <td>0.0</td>\n      <td>0.0</td>\n      <td>1.0</td>\n      <td>0.0</td>\n      <td>0.0</td>\n      <td>0.0</td>\n      <td>0.0</td>\n      <td>...</td>\n      <td>0.0</td>\n      <td>0.0</td>\n      <td>0.0</td>\n      <td>0.0</td>\n      <td>0.0</td>\n      <td>0.0</td>\n      <td>0.0</td>\n      <td>0.0</td>\n      <td>0.0</td>\n      <td>0.0</td>\n    </tr>\n    <tr>\n      <th>A106ZCP7RSXMRU</th>\n      <td>0.0</td>\n      <td>0.0</td>\n      <td>0.0</td>\n      <td>0.0</td>\n      <td>0.0</td>\n      <td>0.0</td>\n      <td>0.0</td>\n      <td>0.0</td>\n      <td>0.0</td>\n      <td>0.0</td>\n      <td>...</td>\n      <td>0.0</td>\n      <td>0.0</td>\n      <td>0.0</td>\n      <td>0.0</td>\n      <td>0.0</td>\n      <td>0.0</td>\n      <td>0.0</td>\n      <td>0.0</td>\n      <td>0.0</td>\n      <td>0.0</td>\n    </tr>\n    <tr>\n      <th>A1080SE9X3ECK0</th>\n      <td>0.0</td>\n      <td>0.0</td>\n      <td>0.0</td>\n      <td>0.0</td>\n      <td>0.0</td>\n      <td>0.0</td>\n      <td>0.0</td>\n      <td>0.0</td>\n      <td>0.0</td>\n      <td>0.0</td>\n      <td>...</td>\n      <td>0.0</td>\n      <td>0.0</td>\n      <td>0.0</td>\n      <td>0.0</td>\n      <td>0.0</td>\n      <td>0.0</td>\n      <td>0.0</td>\n      <td>0.0</td>\n      <td>0.0</td>\n      <td>0.0</td>\n    </tr>\n    <tr>\n      <th>A10G136JEISLVR</th>\n      <td>0.0</td>\n      <td>0.0</td>\n      <td>0.0</td>\n      <td>0.0</td>\n      <td>0.0</td>\n      <td>0.0</td>\n      <td>0.0</td>\n      <td>0.0</td>\n      <td>0.0</td>\n      <td>0.0</td>\n      <td>...</td>\n      <td>0.0</td>\n      <td>0.0</td>\n      <td>0.0</td>\n      <td>0.0</td>\n      <td>0.0</td>\n      <td>0.0</td>\n      <td>0.0</td>\n      <td>0.0</td>\n      <td>0.0</td>\n      <td>0.0</td>\n    </tr>\n    <tr>\n      <th>A11ED8O95W2103</th>\n      <td>0.0</td>\n      <td>0.0</td>\n      <td>0.0</td>\n      <td>0.0</td>\n      <td>0.0</td>\n      <td>0.0</td>\n      <td>0.0</td>\n      <td>0.0</td>\n      <td>0.0</td>\n      <td>0.0</td>\n      <td>...</td>\n      <td>0.0</td>\n      <td>0.0</td>\n      <td>0.0</td>\n      <td>0.0</td>\n      <td>0.0</td>\n      <td>0.0</td>\n      <td>0.0</td>\n      <td>0.0</td>\n      <td>0.0</td>\n      <td>0.0</td>\n    </tr>\n  </tbody>\n</table>\n<p>5 rows × 11313 columns</p>\n</div>"
     },
     "execution_count": 41,
     "metadata": {},
     "output_type": "execute_result"
    }
   ]
  },
  {
   "metadata": {
    "trusted": true
   },
   "cell_type": "code",
   "source": "pivot_df['user_index'] = np.arange(0, pivot_df.shape[0], 1)\npivot_df.head()",
   "execution_count": 42,
   "outputs": [
    {
     "data": {
      "text/plain": "ProductId       7310172001  7310172101  7800648702  B00004CI84  B00004CXX9  \\\nUserId                                                                       \nA100WO06OQR8BQ         0.0         0.0         0.0         0.0         0.0   \nA106ZCP7RSXMRU         0.0         0.0         0.0         0.0         0.0   \nA1080SE9X3ECK0         0.0         0.0         0.0         0.0         0.0   \nA10G136JEISLVR         0.0         0.0         0.0         0.0         0.0   \nA11ED8O95W2103         0.0         0.0         0.0         0.0         0.0   \n\nProductId       B00004RBDU  B00004RBDZ  B00004RYGX  B00004S1C6  B000052Y74  \\\nUserId                                                                       \nA100WO06OQR8BQ         1.0         0.0         0.0         0.0         0.0   \nA106ZCP7RSXMRU         0.0         0.0         0.0         0.0         0.0   \nA1080SE9X3ECK0         0.0         0.0         0.0         0.0         0.0   \nA10G136JEISLVR         0.0         0.0         0.0         0.0         0.0   \nA11ED8O95W2103         0.0         0.0         0.0         0.0         0.0   \n\nProductId       ...  B009KAQZIM  B009KOHGEK  B009KP6HBM  B009LRLB6U  \\\nUserId          ...                                                   \nA100WO06OQR8BQ  ...         0.0         0.0         0.0         0.0   \nA106ZCP7RSXMRU  ...         0.0         0.0         0.0         0.0   \nA1080SE9X3ECK0  ...         0.0         0.0         0.0         0.0   \nA10G136JEISLVR  ...         0.0         0.0         0.0         0.0   \nA11ED8O95W2103  ...         0.0         0.0         0.0         0.0   \n\nProductId       B009LT26BC  B009M2LUEW  B009PCDDO4  B009QEBGIQ  B009RB4GO4  \\\nUserId                                                                       \nA100WO06OQR8BQ         0.0         0.0         0.0         0.0         0.0   \nA106ZCP7RSXMRU         0.0         0.0         0.0         0.0         0.0   \nA1080SE9X3ECK0         0.0         0.0         0.0         0.0         0.0   \nA10G136JEISLVR         0.0         0.0         0.0         0.0         0.0   \nA11ED8O95W2103         0.0         0.0         0.0         0.0         0.0   \n\nProductId       user_index  \nUserId                      \nA100WO06OQR8BQ           0  \nA106ZCP7RSXMRU           1  \nA1080SE9X3ECK0           2  \nA10G136JEISLVR           3  \nA11ED8O95W2103           4  \n\n[5 rows x 11314 columns]",
      "text/html": "<div>\n<style scoped>\n    .dataframe tbody tr th:only-of-type {\n        vertical-align: middle;\n    }\n\n    .dataframe tbody tr th {\n        vertical-align: top;\n    }\n\n    .dataframe thead th {\n        text-align: right;\n    }\n</style>\n<table border=\"1\" class=\"dataframe\">\n  <thead>\n    <tr style=\"text-align: right;\">\n      <th>ProductId</th>\n      <th>7310172001</th>\n      <th>7310172101</th>\n      <th>7800648702</th>\n      <th>B00004CI84</th>\n      <th>B00004CXX9</th>\n      <th>B00004RBDU</th>\n      <th>B00004RBDZ</th>\n      <th>B00004RYGX</th>\n      <th>B00004S1C6</th>\n      <th>B000052Y74</th>\n      <th>...</th>\n      <th>B009KAQZIM</th>\n      <th>B009KOHGEK</th>\n      <th>B009KP6HBM</th>\n      <th>B009LRLB6U</th>\n      <th>B009LT26BC</th>\n      <th>B009M2LUEW</th>\n      <th>B009PCDDO4</th>\n      <th>B009QEBGIQ</th>\n      <th>B009RB4GO4</th>\n      <th>user_index</th>\n    </tr>\n    <tr>\n      <th>UserId</th>\n      <th></th>\n      <th></th>\n      <th></th>\n      <th></th>\n      <th></th>\n      <th></th>\n      <th></th>\n      <th></th>\n      <th></th>\n      <th></th>\n      <th></th>\n      <th></th>\n      <th></th>\n      <th></th>\n      <th></th>\n      <th></th>\n      <th></th>\n      <th></th>\n      <th></th>\n      <th></th>\n      <th></th>\n    </tr>\n  </thead>\n  <tbody>\n    <tr>\n      <th>A100WO06OQR8BQ</th>\n      <td>0.0</td>\n      <td>0.0</td>\n      <td>0.0</td>\n      <td>0.0</td>\n      <td>0.0</td>\n      <td>1.0</td>\n      <td>0.0</td>\n      <td>0.0</td>\n      <td>0.0</td>\n      <td>0.0</td>\n      <td>...</td>\n      <td>0.0</td>\n      <td>0.0</td>\n      <td>0.0</td>\n      <td>0.0</td>\n      <td>0.0</td>\n      <td>0.0</td>\n      <td>0.0</td>\n      <td>0.0</td>\n      <td>0.0</td>\n      <td>0</td>\n    </tr>\n    <tr>\n      <th>A106ZCP7RSXMRU</th>\n      <td>0.0</td>\n      <td>0.0</td>\n      <td>0.0</td>\n      <td>0.0</td>\n      <td>0.0</td>\n      <td>0.0</td>\n      <td>0.0</td>\n      <td>0.0</td>\n      <td>0.0</td>\n      <td>0.0</td>\n      <td>...</td>\n      <td>0.0</td>\n      <td>0.0</td>\n      <td>0.0</td>\n      <td>0.0</td>\n      <td>0.0</td>\n      <td>0.0</td>\n      <td>0.0</td>\n      <td>0.0</td>\n      <td>0.0</td>\n      <td>1</td>\n    </tr>\n    <tr>\n      <th>A1080SE9X3ECK0</th>\n      <td>0.0</td>\n      <td>0.0</td>\n      <td>0.0</td>\n      <td>0.0</td>\n      <td>0.0</td>\n      <td>0.0</td>\n      <td>0.0</td>\n      <td>0.0</td>\n      <td>0.0</td>\n      <td>0.0</td>\n      <td>...</td>\n      <td>0.0</td>\n      <td>0.0</td>\n      <td>0.0</td>\n      <td>0.0</td>\n      <td>0.0</td>\n      <td>0.0</td>\n      <td>0.0</td>\n      <td>0.0</td>\n      <td>0.0</td>\n      <td>2</td>\n    </tr>\n    <tr>\n      <th>A10G136JEISLVR</th>\n      <td>0.0</td>\n      <td>0.0</td>\n      <td>0.0</td>\n      <td>0.0</td>\n      <td>0.0</td>\n      <td>0.0</td>\n      <td>0.0</td>\n      <td>0.0</td>\n      <td>0.0</td>\n      <td>0.0</td>\n      <td>...</td>\n      <td>0.0</td>\n      <td>0.0</td>\n      <td>0.0</td>\n      <td>0.0</td>\n      <td>0.0</td>\n      <td>0.0</td>\n      <td>0.0</td>\n      <td>0.0</td>\n      <td>0.0</td>\n      <td>3</td>\n    </tr>\n    <tr>\n      <th>A11ED8O95W2103</th>\n      <td>0.0</td>\n      <td>0.0</td>\n      <td>0.0</td>\n      <td>0.0</td>\n      <td>0.0</td>\n      <td>0.0</td>\n      <td>0.0</td>\n      <td>0.0</td>\n      <td>0.0</td>\n      <td>0.0</td>\n      <td>...</td>\n      <td>0.0</td>\n      <td>0.0</td>\n      <td>0.0</td>\n      <td>0.0</td>\n      <td>0.0</td>\n      <td>0.0</td>\n      <td>0.0</td>\n      <td>0.0</td>\n      <td>0.0</td>\n      <td>4</td>\n    </tr>\n  </tbody>\n</table>\n<p>5 rows × 11314 columns</p>\n</div>"
     },
     "execution_count": 42,
     "metadata": {},
     "output_type": "execute_result"
    }
   ]
  },
  {
   "metadata": {
    "trusted": true
   },
   "cell_type": "code",
   "source": "pivot_df.set_index(['user_index'], inplace=True)\n\n# Actual ratings given by users\npivot_df.head()",
   "execution_count": 43,
   "outputs": [
    {
     "data": {
      "text/plain": "ProductId   7310172001  7310172101  7800648702  B00004CI84  B00004CXX9  \\\nuser_index                                                               \n0                  0.0         0.0         0.0         0.0         0.0   \n1                  0.0         0.0         0.0         0.0         0.0   \n2                  0.0         0.0         0.0         0.0         0.0   \n3                  0.0         0.0         0.0         0.0         0.0   \n4                  0.0         0.0         0.0         0.0         0.0   \n\nProductId   B00004RBDU  B00004RBDZ  B00004RYGX  B00004S1C6  B000052Y74  ...  \\\nuser_index                                                              ...   \n0                  1.0         0.0         0.0         0.0         0.0  ...   \n1                  0.0         0.0         0.0         0.0         0.0  ...   \n2                  0.0         0.0         0.0         0.0         0.0  ...   \n3                  0.0         0.0         0.0         0.0         0.0  ...   \n4                  0.0         0.0         0.0         0.0         0.0  ...   \n\nProductId   B009KAQZ9G  B009KAQZIM  B009KOHGEK  B009KP6HBM  B009LRLB6U  \\\nuser_index                                                               \n0                  0.0         0.0         0.0         0.0         0.0   \n1                  0.0         0.0         0.0         0.0         0.0   \n2                  0.0         0.0         0.0         0.0         0.0   \n3                  0.0         0.0         0.0         0.0         0.0   \n4                  0.0         0.0         0.0         0.0         0.0   \n\nProductId   B009LT26BC  B009M2LUEW  B009PCDDO4  B009QEBGIQ  B009RB4GO4  \nuser_index                                                              \n0                  0.0         0.0         0.0         0.0         0.0  \n1                  0.0         0.0         0.0         0.0         0.0  \n2                  0.0         0.0         0.0         0.0         0.0  \n3                  0.0         0.0         0.0         0.0         0.0  \n4                  0.0         0.0         0.0         0.0         0.0  \n\n[5 rows x 11313 columns]",
      "text/html": "<div>\n<style scoped>\n    .dataframe tbody tr th:only-of-type {\n        vertical-align: middle;\n    }\n\n    .dataframe tbody tr th {\n        vertical-align: top;\n    }\n\n    .dataframe thead th {\n        text-align: right;\n    }\n</style>\n<table border=\"1\" class=\"dataframe\">\n  <thead>\n    <tr style=\"text-align: right;\">\n      <th>ProductId</th>\n      <th>7310172001</th>\n      <th>7310172101</th>\n      <th>7800648702</th>\n      <th>B00004CI84</th>\n      <th>B00004CXX9</th>\n      <th>B00004RBDU</th>\n      <th>B00004RBDZ</th>\n      <th>B00004RYGX</th>\n      <th>B00004S1C6</th>\n      <th>B000052Y74</th>\n      <th>...</th>\n      <th>B009KAQZ9G</th>\n      <th>B009KAQZIM</th>\n      <th>B009KOHGEK</th>\n      <th>B009KP6HBM</th>\n      <th>B009LRLB6U</th>\n      <th>B009LT26BC</th>\n      <th>B009M2LUEW</th>\n      <th>B009PCDDO4</th>\n      <th>B009QEBGIQ</th>\n      <th>B009RB4GO4</th>\n    </tr>\n    <tr>\n      <th>user_index</th>\n      <th></th>\n      <th></th>\n      <th></th>\n      <th></th>\n      <th></th>\n      <th></th>\n      <th></th>\n      <th></th>\n      <th></th>\n      <th></th>\n      <th></th>\n      <th></th>\n      <th></th>\n      <th></th>\n      <th></th>\n      <th></th>\n      <th></th>\n      <th></th>\n      <th></th>\n      <th></th>\n      <th></th>\n    </tr>\n  </thead>\n  <tbody>\n    <tr>\n      <th>0</th>\n      <td>0.0</td>\n      <td>0.0</td>\n      <td>0.0</td>\n      <td>0.0</td>\n      <td>0.0</td>\n      <td>1.0</td>\n      <td>0.0</td>\n      <td>0.0</td>\n      <td>0.0</td>\n      <td>0.0</td>\n      <td>...</td>\n      <td>0.0</td>\n      <td>0.0</td>\n      <td>0.0</td>\n      <td>0.0</td>\n      <td>0.0</td>\n      <td>0.0</td>\n      <td>0.0</td>\n      <td>0.0</td>\n      <td>0.0</td>\n      <td>0.0</td>\n    </tr>\n    <tr>\n      <th>1</th>\n      <td>0.0</td>\n      <td>0.0</td>\n      <td>0.0</td>\n      <td>0.0</td>\n      <td>0.0</td>\n      <td>0.0</td>\n      <td>0.0</td>\n      <td>0.0</td>\n      <td>0.0</td>\n      <td>0.0</td>\n      <td>...</td>\n      <td>0.0</td>\n      <td>0.0</td>\n      <td>0.0</td>\n      <td>0.0</td>\n      <td>0.0</td>\n      <td>0.0</td>\n      <td>0.0</td>\n      <td>0.0</td>\n      <td>0.0</td>\n      <td>0.0</td>\n    </tr>\n    <tr>\n      <th>2</th>\n      <td>0.0</td>\n      <td>0.0</td>\n      <td>0.0</td>\n      <td>0.0</td>\n      <td>0.0</td>\n      <td>0.0</td>\n      <td>0.0</td>\n      <td>0.0</td>\n      <td>0.0</td>\n      <td>0.0</td>\n      <td>...</td>\n      <td>0.0</td>\n      <td>0.0</td>\n      <td>0.0</td>\n      <td>0.0</td>\n      <td>0.0</td>\n      <td>0.0</td>\n      <td>0.0</td>\n      <td>0.0</td>\n      <td>0.0</td>\n      <td>0.0</td>\n    </tr>\n    <tr>\n      <th>3</th>\n      <td>0.0</td>\n      <td>0.0</td>\n      <td>0.0</td>\n      <td>0.0</td>\n      <td>0.0</td>\n      <td>0.0</td>\n      <td>0.0</td>\n      <td>0.0</td>\n      <td>0.0</td>\n      <td>0.0</td>\n      <td>...</td>\n      <td>0.0</td>\n      <td>0.0</td>\n      <td>0.0</td>\n      <td>0.0</td>\n      <td>0.0</td>\n      <td>0.0</td>\n      <td>0.0</td>\n      <td>0.0</td>\n      <td>0.0</td>\n      <td>0.0</td>\n    </tr>\n    <tr>\n      <th>4</th>\n      <td>0.0</td>\n      <td>0.0</td>\n      <td>0.0</td>\n      <td>0.0</td>\n      <td>0.0</td>\n      <td>0.0</td>\n      <td>0.0</td>\n      <td>0.0</td>\n      <td>0.0</td>\n      <td>0.0</td>\n      <td>...</td>\n      <td>0.0</td>\n      <td>0.0</td>\n      <td>0.0</td>\n      <td>0.0</td>\n      <td>0.0</td>\n      <td>0.0</td>\n      <td>0.0</td>\n      <td>0.0</td>\n      <td>0.0</td>\n      <td>0.0</td>\n    </tr>\n  </tbody>\n</table>\n<p>5 rows × 11313 columns</p>\n</div>"
     },
     "execution_count": 43,
     "metadata": {},
     "output_type": "execute_result"
    }
   ]
  },
  {
   "metadata": {},
   "cell_type": "markdown",
   "source": "### SVD method\n#### SVD is best to apply on a large sparse matrix"
  },
  {
   "metadata": {
    "trusted": true
   },
   "cell_type": "code",
   "source": "from scipy.sparse.linalg import svds\n# Singular Value Decomposition\nU, sigma, Vt = svds(pivot_df, k = 50)\n# Construct diagonal array in SVD\nsigma = np.diag(sigma)",
   "execution_count": 44,
   "outputs": []
  },
  {
   "metadata": {},
   "cell_type": "markdown",
   "source": "### Note that for sparse matrices, you can use the sparse.linalg.svds() function to perform the decomposition.\nSVD is useful in many tasks, such as data compression, noise reduction similar to Principal Component Analysis and Latent Semantic Indexing (LSI), used in document retrieval and word similarity in Text mining"
  },
  {
   "metadata": {
    "trusted": true
   },
   "cell_type": "code",
   "source": "all_user_predicted_ratings = np.dot(np.dot(U, sigma), Vt) \n\n# Predicted ratings\npreds_df = pd.DataFrame(all_user_predicted_ratings, columns = pivot_df.columns)\npreds_df.head()",
   "execution_count": 45,
   "outputs": [
    {
     "data": {
      "text/plain": "ProductId  7310172001  7310172101  7800648702  B00004CI84  B00004CXX9  \\\n0           -0.023781   -0.023781   -0.002054    0.104898    0.104898   \n1           -0.007905   -0.007905   -0.003851   -0.008111   -0.008111   \n2            0.002045    0.002045    0.021680    0.053874    0.053874   \n3            0.000029    0.000029   -0.000028    0.000039    0.000039   \n4            0.006935    0.006935   -0.000392    0.008952    0.008952   \n\nProductId  B00004RBDU  B00004RBDZ  B00004RYGX  B00004S1C6  B000052Y74  ...  \\\n0            0.024303    0.107537    0.104898   -0.020275   -0.059207  ...   \n1           -0.000537   -0.010274   -0.008111   -0.000594    0.032172  ...   \n2           -0.005837   -0.008159    0.053874   -0.046556    0.006265  ...   \n3           -0.000002   -0.000218    0.000039    0.000419    0.000130  ...   \n4           -0.000043    0.012956    0.008952   -0.007402    0.004274  ...   \n\nProductId  B009KAQZ9G  B009KAQZIM  B009KOHGEK  B009KP6HBM  B009LRLB6U  \\\n0            0.046674    0.046674    0.016852    0.046674   -0.017740   \n1           -0.028196   -0.028196    0.040836   -0.028196    0.002385   \n2           -0.072355   -0.072355    0.038650   -0.072355   -0.047259   \n3            0.000046    0.000046    0.000019    0.000046    0.000292   \n4            0.014244    0.014244    0.011886    0.014244   -0.000456   \n\nProductId  B009LT26BC  B009M2LUEW  B009PCDDO4  B009QEBGIQ  B009RB4GO4  \n0            0.097006    0.083491    0.076254   -0.057970    0.057460  \n1            0.027653    0.566969   -0.027474    0.009181    0.000949  \n2            0.014912   -0.038054    0.122540    0.068785    0.021741  \n3           -0.000033    0.000224   -0.000047    0.000142    0.000023  \n4            0.006861    0.045682   -0.000051   -0.007725   -0.015513  \n\n[5 rows x 11313 columns]",
      "text/html": "<div>\n<style scoped>\n    .dataframe tbody tr th:only-of-type {\n        vertical-align: middle;\n    }\n\n    .dataframe tbody tr th {\n        vertical-align: top;\n    }\n\n    .dataframe thead th {\n        text-align: right;\n    }\n</style>\n<table border=\"1\" class=\"dataframe\">\n  <thead>\n    <tr style=\"text-align: right;\">\n      <th>ProductId</th>\n      <th>7310172001</th>\n      <th>7310172101</th>\n      <th>7800648702</th>\n      <th>B00004CI84</th>\n      <th>B00004CXX9</th>\n      <th>B00004RBDU</th>\n      <th>B00004RBDZ</th>\n      <th>B00004RYGX</th>\n      <th>B00004S1C6</th>\n      <th>B000052Y74</th>\n      <th>...</th>\n      <th>B009KAQZ9G</th>\n      <th>B009KAQZIM</th>\n      <th>B009KOHGEK</th>\n      <th>B009KP6HBM</th>\n      <th>B009LRLB6U</th>\n      <th>B009LT26BC</th>\n      <th>B009M2LUEW</th>\n      <th>B009PCDDO4</th>\n      <th>B009QEBGIQ</th>\n      <th>B009RB4GO4</th>\n    </tr>\n  </thead>\n  <tbody>\n    <tr>\n      <th>0</th>\n      <td>-0.023781</td>\n      <td>-0.023781</td>\n      <td>-0.002054</td>\n      <td>0.104898</td>\n      <td>0.104898</td>\n      <td>0.024303</td>\n      <td>0.107537</td>\n      <td>0.104898</td>\n      <td>-0.020275</td>\n      <td>-0.059207</td>\n      <td>...</td>\n      <td>0.046674</td>\n      <td>0.046674</td>\n      <td>0.016852</td>\n      <td>0.046674</td>\n      <td>-0.017740</td>\n      <td>0.097006</td>\n      <td>0.083491</td>\n      <td>0.076254</td>\n      <td>-0.057970</td>\n      <td>0.057460</td>\n    </tr>\n    <tr>\n      <th>1</th>\n      <td>-0.007905</td>\n      <td>-0.007905</td>\n      <td>-0.003851</td>\n      <td>-0.008111</td>\n      <td>-0.008111</td>\n      <td>-0.000537</td>\n      <td>-0.010274</td>\n      <td>-0.008111</td>\n      <td>-0.000594</td>\n      <td>0.032172</td>\n      <td>...</td>\n      <td>-0.028196</td>\n      <td>-0.028196</td>\n      <td>0.040836</td>\n      <td>-0.028196</td>\n      <td>0.002385</td>\n      <td>0.027653</td>\n      <td>0.566969</td>\n      <td>-0.027474</td>\n      <td>0.009181</td>\n      <td>0.000949</td>\n    </tr>\n    <tr>\n      <th>2</th>\n      <td>0.002045</td>\n      <td>0.002045</td>\n      <td>0.021680</td>\n      <td>0.053874</td>\n      <td>0.053874</td>\n      <td>-0.005837</td>\n      <td>-0.008159</td>\n      <td>0.053874</td>\n      <td>-0.046556</td>\n      <td>0.006265</td>\n      <td>...</td>\n      <td>-0.072355</td>\n      <td>-0.072355</td>\n      <td>0.038650</td>\n      <td>-0.072355</td>\n      <td>-0.047259</td>\n      <td>0.014912</td>\n      <td>-0.038054</td>\n      <td>0.122540</td>\n      <td>0.068785</td>\n      <td>0.021741</td>\n    </tr>\n    <tr>\n      <th>3</th>\n      <td>0.000029</td>\n      <td>0.000029</td>\n      <td>-0.000028</td>\n      <td>0.000039</td>\n      <td>0.000039</td>\n      <td>-0.000002</td>\n      <td>-0.000218</td>\n      <td>0.000039</td>\n      <td>0.000419</td>\n      <td>0.000130</td>\n      <td>...</td>\n      <td>0.000046</td>\n      <td>0.000046</td>\n      <td>0.000019</td>\n      <td>0.000046</td>\n      <td>0.000292</td>\n      <td>-0.000033</td>\n      <td>0.000224</td>\n      <td>-0.000047</td>\n      <td>0.000142</td>\n      <td>0.000023</td>\n    </tr>\n    <tr>\n      <th>4</th>\n      <td>0.006935</td>\n      <td>0.006935</td>\n      <td>-0.000392</td>\n      <td>0.008952</td>\n      <td>0.008952</td>\n      <td>-0.000043</td>\n      <td>0.012956</td>\n      <td>0.008952</td>\n      <td>-0.007402</td>\n      <td>0.004274</td>\n      <td>...</td>\n      <td>0.014244</td>\n      <td>0.014244</td>\n      <td>0.011886</td>\n      <td>0.014244</td>\n      <td>-0.000456</td>\n      <td>0.006861</td>\n      <td>0.045682</td>\n      <td>-0.000051</td>\n      <td>-0.007725</td>\n      <td>-0.015513</td>\n    </tr>\n  </tbody>\n</table>\n<p>5 rows × 11313 columns</p>\n</div>"
     },
     "execution_count": 45,
     "metadata": {},
     "output_type": "execute_result"
    }
   ]
  },
  {
   "metadata": {
    "trusted": true
   },
   "cell_type": "code",
   "source": "# Recommend the items with the highest predicted ratings\n\ndef recommend_items(userID, pivot_df, preds_df, num_recommendations):\n      \n    user_idx = userID-1 # index starts at 0\n    \n    # Get and sort the user's ratings\n    sorted_user_ratings = pivot_df.iloc[user_idx].sort_values(ascending=False)\n    #sorted_user_ratings\n    sorted_user_predictions = preds_df.iloc[user_idx].sort_values(ascending=False)\n    #sorted_user_predictions\n\n    temp = pd.concat([sorted_user_ratings, sorted_user_predictions], axis=1)\n    temp.index.name = 'Recommended Items'\n    temp.columns = ['user_ratings', 'user_predictions']\n    \n    temp = temp.loc[temp.user_ratings == 0]   \n    temp = temp.sort_values('user_predictions', ascending=False)\n    print('\\nBelow are the recommended items for user(user_id = {}):\\n'.format(userID))\n    print(temp.head(num_recommendations))",
   "execution_count": 46,
   "outputs": []
  },
  {
   "metadata": {
    "trusted": true
   },
   "cell_type": "code",
   "source": "#Enter 'userID' and 'num_recommendations' for the user #\nuserID = 121\nnum_recommendations = 5\nrecommend_items(userID, pivot_df, preds_df, num_recommendations)",
   "execution_count": 47,
   "outputs": [
    {
     "name": "stdout",
     "output_type": "stream",
     "text": [
      "\n",
      "Below are the recommended items for user(user_id = 121):\n",
      "\n",
      "                   user_ratings  user_predictions\n",
      "Recommended Items                                \n",
      "B004E4EBMG                  0.0          1.553272\n",
      "B004JGQ15E                  0.0          0.972833\n",
      "B0061IUIDY                  0.0          0.923977\n",
      "B0041NYV8E                  0.0          0.901132\n",
      "B001LG940E                  0.0          0.893659\n"
     ]
    }
   ]
  },
  {
   "metadata": {},
   "cell_type": "markdown",
   "source": "# Evaluate both the models. ( Once the model is trained on the training data, it can be used to compute the error (RMSE) on predictions made on the test data.)"
  },
  {
   "metadata": {},
   "cell_type": "markdown",
   "source": "#### Evaluation of Model-based Collaborative Filtering (SVD)\n"
  },
  {
   "metadata": {
    "trusted": true
   },
   "cell_type": "code",
   "source": "# Actual ratings given by the users\nfinal_ratings_matrix.head()",
   "execution_count": 48,
   "outputs": [
    {
     "data": {
      "text/plain": "ProductId       7310172001  7310172101  7800648702  B00004CI84  B00004CXX9  \\\nUserId                                                                       \nA100WO06OQR8BQ         0.0         0.0         0.0         0.0         0.0   \nA106ZCP7RSXMRU         0.0         0.0         0.0         0.0         0.0   \nA1080SE9X3ECK0         0.0         0.0         0.0         0.0         0.0   \nA10G136JEISLVR         0.0         0.0         0.0         0.0         0.0   \nA11ED8O95W2103         0.0         0.0         0.0         0.0         0.0   \n\nProductId       B00004RBDU  B00004RBDZ  B00004RYGX  B00004S1C6  B000052Y74  \\\nUserId                                                                       \nA100WO06OQR8BQ         1.0         0.0         0.0         0.0         0.0   \nA106ZCP7RSXMRU         0.0         0.0         0.0         0.0         0.0   \nA1080SE9X3ECK0         0.0         0.0         0.0         0.0         0.0   \nA10G136JEISLVR         0.0         0.0         0.0         0.0         0.0   \nA11ED8O95W2103         0.0         0.0         0.0         0.0         0.0   \n\nProductId       ...  B009KAQZ9G  B009KAQZIM  B009KOHGEK  B009KP6HBM  \\\nUserId          ...                                                   \nA100WO06OQR8BQ  ...         0.0         0.0         0.0         0.0   \nA106ZCP7RSXMRU  ...         0.0         0.0         0.0         0.0   \nA1080SE9X3ECK0  ...         0.0         0.0         0.0         0.0   \nA10G136JEISLVR  ...         0.0         0.0         0.0         0.0   \nA11ED8O95W2103  ...         0.0         0.0         0.0         0.0   \n\nProductId       B009LRLB6U  B009LT26BC  B009M2LUEW  B009PCDDO4  B009QEBGIQ  \\\nUserId                                                                       \nA100WO06OQR8BQ         0.0         0.0         0.0         0.0         0.0   \nA106ZCP7RSXMRU         0.0         0.0         0.0         0.0         0.0   \nA1080SE9X3ECK0         0.0         0.0         0.0         0.0         0.0   \nA10G136JEISLVR         0.0         0.0         0.0         0.0         0.0   \nA11ED8O95W2103         0.0         0.0         0.0         0.0         0.0   \n\nProductId       B009RB4GO4  \nUserId                      \nA100WO06OQR8BQ         0.0  \nA106ZCP7RSXMRU         0.0  \nA1080SE9X3ECK0         0.0  \nA10G136JEISLVR         0.0  \nA11ED8O95W2103         0.0  \n\n[5 rows x 11313 columns]",
      "text/html": "<div>\n<style scoped>\n    .dataframe tbody tr th:only-of-type {\n        vertical-align: middle;\n    }\n\n    .dataframe tbody tr th {\n        vertical-align: top;\n    }\n\n    .dataframe thead th {\n        text-align: right;\n    }\n</style>\n<table border=\"1\" class=\"dataframe\">\n  <thead>\n    <tr style=\"text-align: right;\">\n      <th>ProductId</th>\n      <th>7310172001</th>\n      <th>7310172101</th>\n      <th>7800648702</th>\n      <th>B00004CI84</th>\n      <th>B00004CXX9</th>\n      <th>B00004RBDU</th>\n      <th>B00004RBDZ</th>\n      <th>B00004RYGX</th>\n      <th>B00004S1C6</th>\n      <th>B000052Y74</th>\n      <th>...</th>\n      <th>B009KAQZ9G</th>\n      <th>B009KAQZIM</th>\n      <th>B009KOHGEK</th>\n      <th>B009KP6HBM</th>\n      <th>B009LRLB6U</th>\n      <th>B009LT26BC</th>\n      <th>B009M2LUEW</th>\n      <th>B009PCDDO4</th>\n      <th>B009QEBGIQ</th>\n      <th>B009RB4GO4</th>\n    </tr>\n    <tr>\n      <th>UserId</th>\n      <th></th>\n      <th></th>\n      <th></th>\n      <th></th>\n      <th></th>\n      <th></th>\n      <th></th>\n      <th></th>\n      <th></th>\n      <th></th>\n      <th></th>\n      <th></th>\n      <th></th>\n      <th></th>\n      <th></th>\n      <th></th>\n      <th></th>\n      <th></th>\n      <th></th>\n      <th></th>\n      <th></th>\n    </tr>\n  </thead>\n  <tbody>\n    <tr>\n      <th>A100WO06OQR8BQ</th>\n      <td>0.0</td>\n      <td>0.0</td>\n      <td>0.0</td>\n      <td>0.0</td>\n      <td>0.0</td>\n      <td>1.0</td>\n      <td>0.0</td>\n      <td>0.0</td>\n      <td>0.0</td>\n      <td>0.0</td>\n      <td>...</td>\n      <td>0.0</td>\n      <td>0.0</td>\n      <td>0.0</td>\n      <td>0.0</td>\n      <td>0.0</td>\n      <td>0.0</td>\n      <td>0.0</td>\n      <td>0.0</td>\n      <td>0.0</td>\n      <td>0.0</td>\n    </tr>\n    <tr>\n      <th>A106ZCP7RSXMRU</th>\n      <td>0.0</td>\n      <td>0.0</td>\n      <td>0.0</td>\n      <td>0.0</td>\n      <td>0.0</td>\n      <td>0.0</td>\n      <td>0.0</td>\n      <td>0.0</td>\n      <td>0.0</td>\n      <td>0.0</td>\n      <td>...</td>\n      <td>0.0</td>\n      <td>0.0</td>\n      <td>0.0</td>\n      <td>0.0</td>\n      <td>0.0</td>\n      <td>0.0</td>\n      <td>0.0</td>\n      <td>0.0</td>\n      <td>0.0</td>\n      <td>0.0</td>\n    </tr>\n    <tr>\n      <th>A1080SE9X3ECK0</th>\n      <td>0.0</td>\n      <td>0.0</td>\n      <td>0.0</td>\n      <td>0.0</td>\n      <td>0.0</td>\n      <td>0.0</td>\n      <td>0.0</td>\n      <td>0.0</td>\n      <td>0.0</td>\n      <td>0.0</td>\n      <td>...</td>\n      <td>0.0</td>\n      <td>0.0</td>\n      <td>0.0</td>\n      <td>0.0</td>\n      <td>0.0</td>\n      <td>0.0</td>\n      <td>0.0</td>\n      <td>0.0</td>\n      <td>0.0</td>\n      <td>0.0</td>\n    </tr>\n    <tr>\n      <th>A10G136JEISLVR</th>\n      <td>0.0</td>\n      <td>0.0</td>\n      <td>0.0</td>\n      <td>0.0</td>\n      <td>0.0</td>\n      <td>0.0</td>\n      <td>0.0</td>\n      <td>0.0</td>\n      <td>0.0</td>\n      <td>0.0</td>\n      <td>...</td>\n      <td>0.0</td>\n      <td>0.0</td>\n      <td>0.0</td>\n      <td>0.0</td>\n      <td>0.0</td>\n      <td>0.0</td>\n      <td>0.0</td>\n      <td>0.0</td>\n      <td>0.0</td>\n      <td>0.0</td>\n    </tr>\n    <tr>\n      <th>A11ED8O95W2103</th>\n      <td>0.0</td>\n      <td>0.0</td>\n      <td>0.0</td>\n      <td>0.0</td>\n      <td>0.0</td>\n      <td>0.0</td>\n      <td>0.0</td>\n      <td>0.0</td>\n      <td>0.0</td>\n      <td>0.0</td>\n      <td>...</td>\n      <td>0.0</td>\n      <td>0.0</td>\n      <td>0.0</td>\n      <td>0.0</td>\n      <td>0.0</td>\n      <td>0.0</td>\n      <td>0.0</td>\n      <td>0.0</td>\n      <td>0.0</td>\n      <td>0.0</td>\n    </tr>\n  </tbody>\n</table>\n<p>5 rows × 11313 columns</p>\n</div>"
     },
     "execution_count": 48,
     "metadata": {},
     "output_type": "execute_result"
    }
   ]
  },
  {
   "metadata": {
    "trusted": true
   },
   "cell_type": "code",
   "source": "# Average ACTUAL rating for each item\nfinal_ratings_matrix.mean().head()",
   "execution_count": 49,
   "outputs": [
    {
     "data": {
      "text/plain": "ProductId\n7310172001    0.037453\n7310172101    0.037453\n7800648702    0.018727\nB00004CI84    0.044944\nB00004CXX9    0.044944\ndtype: float64"
     },
     "execution_count": 49,
     "metadata": {},
     "output_type": "execute_result"
    }
   ]
  },
  {
   "metadata": {
    "trusted": true
   },
   "cell_type": "code",
   "source": "# Predicted ratings \npreds_df.head()",
   "execution_count": 50,
   "outputs": [
    {
     "data": {
      "text/plain": "ProductId  7310172001  7310172101  7800648702  B00004CI84  B00004CXX9  \\\n0           -0.023781   -0.023781   -0.002054    0.104898    0.104898   \n1           -0.007905   -0.007905   -0.003851   -0.008111   -0.008111   \n2            0.002045    0.002045    0.021680    0.053874    0.053874   \n3            0.000029    0.000029   -0.000028    0.000039    0.000039   \n4            0.006935    0.006935   -0.000392    0.008952    0.008952   \n\nProductId  B00004RBDU  B00004RBDZ  B00004RYGX  B00004S1C6  B000052Y74  ...  \\\n0            0.024303    0.107537    0.104898   -0.020275   -0.059207  ...   \n1           -0.000537   -0.010274   -0.008111   -0.000594    0.032172  ...   \n2           -0.005837   -0.008159    0.053874   -0.046556    0.006265  ...   \n3           -0.000002   -0.000218    0.000039    0.000419    0.000130  ...   \n4           -0.000043    0.012956    0.008952   -0.007402    0.004274  ...   \n\nProductId  B009KAQZ9G  B009KAQZIM  B009KOHGEK  B009KP6HBM  B009LRLB6U  \\\n0            0.046674    0.046674    0.016852    0.046674   -0.017740   \n1           -0.028196   -0.028196    0.040836   -0.028196    0.002385   \n2           -0.072355   -0.072355    0.038650   -0.072355   -0.047259   \n3            0.000046    0.000046    0.000019    0.000046    0.000292   \n4            0.014244    0.014244    0.011886    0.014244   -0.000456   \n\nProductId  B009LT26BC  B009M2LUEW  B009PCDDO4  B009QEBGIQ  B009RB4GO4  \n0            0.097006    0.083491    0.076254   -0.057970    0.057460  \n1            0.027653    0.566969   -0.027474    0.009181    0.000949  \n2            0.014912   -0.038054    0.122540    0.068785    0.021741  \n3           -0.000033    0.000224   -0.000047    0.000142    0.000023  \n4            0.006861    0.045682   -0.000051   -0.007725   -0.015513  \n\n[5 rows x 11313 columns]",
      "text/html": "<div>\n<style scoped>\n    .dataframe tbody tr th:only-of-type {\n        vertical-align: middle;\n    }\n\n    .dataframe tbody tr th {\n        vertical-align: top;\n    }\n\n    .dataframe thead th {\n        text-align: right;\n    }\n</style>\n<table border=\"1\" class=\"dataframe\">\n  <thead>\n    <tr style=\"text-align: right;\">\n      <th>ProductId</th>\n      <th>7310172001</th>\n      <th>7310172101</th>\n      <th>7800648702</th>\n      <th>B00004CI84</th>\n      <th>B00004CXX9</th>\n      <th>B00004RBDU</th>\n      <th>B00004RBDZ</th>\n      <th>B00004RYGX</th>\n      <th>B00004S1C6</th>\n      <th>B000052Y74</th>\n      <th>...</th>\n      <th>B009KAQZ9G</th>\n      <th>B009KAQZIM</th>\n      <th>B009KOHGEK</th>\n      <th>B009KP6HBM</th>\n      <th>B009LRLB6U</th>\n      <th>B009LT26BC</th>\n      <th>B009M2LUEW</th>\n      <th>B009PCDDO4</th>\n      <th>B009QEBGIQ</th>\n      <th>B009RB4GO4</th>\n    </tr>\n  </thead>\n  <tbody>\n    <tr>\n      <th>0</th>\n      <td>-0.023781</td>\n      <td>-0.023781</td>\n      <td>-0.002054</td>\n      <td>0.104898</td>\n      <td>0.104898</td>\n      <td>0.024303</td>\n      <td>0.107537</td>\n      <td>0.104898</td>\n      <td>-0.020275</td>\n      <td>-0.059207</td>\n      <td>...</td>\n      <td>0.046674</td>\n      <td>0.046674</td>\n      <td>0.016852</td>\n      <td>0.046674</td>\n      <td>-0.017740</td>\n      <td>0.097006</td>\n      <td>0.083491</td>\n      <td>0.076254</td>\n      <td>-0.057970</td>\n      <td>0.057460</td>\n    </tr>\n    <tr>\n      <th>1</th>\n      <td>-0.007905</td>\n      <td>-0.007905</td>\n      <td>-0.003851</td>\n      <td>-0.008111</td>\n      <td>-0.008111</td>\n      <td>-0.000537</td>\n      <td>-0.010274</td>\n      <td>-0.008111</td>\n      <td>-0.000594</td>\n      <td>0.032172</td>\n      <td>...</td>\n      <td>-0.028196</td>\n      <td>-0.028196</td>\n      <td>0.040836</td>\n      <td>-0.028196</td>\n      <td>0.002385</td>\n      <td>0.027653</td>\n      <td>0.566969</td>\n      <td>-0.027474</td>\n      <td>0.009181</td>\n      <td>0.000949</td>\n    </tr>\n    <tr>\n      <th>2</th>\n      <td>0.002045</td>\n      <td>0.002045</td>\n      <td>0.021680</td>\n      <td>0.053874</td>\n      <td>0.053874</td>\n      <td>-0.005837</td>\n      <td>-0.008159</td>\n      <td>0.053874</td>\n      <td>-0.046556</td>\n      <td>0.006265</td>\n      <td>...</td>\n      <td>-0.072355</td>\n      <td>-0.072355</td>\n      <td>0.038650</td>\n      <td>-0.072355</td>\n      <td>-0.047259</td>\n      <td>0.014912</td>\n      <td>-0.038054</td>\n      <td>0.122540</td>\n      <td>0.068785</td>\n      <td>0.021741</td>\n    </tr>\n    <tr>\n      <th>3</th>\n      <td>0.000029</td>\n      <td>0.000029</td>\n      <td>-0.000028</td>\n      <td>0.000039</td>\n      <td>0.000039</td>\n      <td>-0.000002</td>\n      <td>-0.000218</td>\n      <td>0.000039</td>\n      <td>0.000419</td>\n      <td>0.000130</td>\n      <td>...</td>\n      <td>0.000046</td>\n      <td>0.000046</td>\n      <td>0.000019</td>\n      <td>0.000046</td>\n      <td>0.000292</td>\n      <td>-0.000033</td>\n      <td>0.000224</td>\n      <td>-0.000047</td>\n      <td>0.000142</td>\n      <td>0.000023</td>\n    </tr>\n    <tr>\n      <th>4</th>\n      <td>0.006935</td>\n      <td>0.006935</td>\n      <td>-0.000392</td>\n      <td>0.008952</td>\n      <td>0.008952</td>\n      <td>-0.000043</td>\n      <td>0.012956</td>\n      <td>0.008952</td>\n      <td>-0.007402</td>\n      <td>0.004274</td>\n      <td>...</td>\n      <td>0.014244</td>\n      <td>0.014244</td>\n      <td>0.011886</td>\n      <td>0.014244</td>\n      <td>-0.000456</td>\n      <td>0.006861</td>\n      <td>0.045682</td>\n      <td>-0.000051</td>\n      <td>-0.007725</td>\n      <td>-0.015513</td>\n    </tr>\n  </tbody>\n</table>\n<p>5 rows × 11313 columns</p>\n</div>"
     },
     "execution_count": 50,
     "metadata": {},
     "output_type": "execute_result"
    }
   ]
  },
  {
   "metadata": {
    "trusted": true
   },
   "cell_type": "code",
   "source": "# Average PREDICTED rating for each item\npreds_df.mean().head()",
   "execution_count": 51,
   "outputs": [
    {
     "data": {
      "text/plain": "ProductId\n7310172001    0.001174\n7310172101    0.001174\n7800648702    0.004557\nB00004CI84    0.039487\nB00004CXX9    0.039487\ndtype: float64"
     },
     "execution_count": 51,
     "metadata": {},
     "output_type": "execute_result"
    }
   ]
  },
  {
   "metadata": {
    "trusted": true
   },
   "cell_type": "code",
   "source": "rmse_df = pd.concat([final_ratings_matrix.mean(), preds_df.mean()], axis=1)\nrmse_df.columns = ['Avg_actual_ratings', 'Avg_predicted_ratings']\nprint(rmse_df.shape)\nrmse_df['item_index'] = np.arange(0, rmse_df.shape[0], 1)\nrmse_df.head()",
   "execution_count": 52,
   "outputs": [
    {
     "name": "stdout",
     "output_type": "stream",
     "text": [
      "(11313, 2)\n"
     ]
    },
    {
     "data": {
      "text/plain": "            Avg_actual_ratings  Avg_predicted_ratings  item_index\nProductId                                                        \n7310172001            0.037453               0.001174           0\n7310172101            0.037453               0.001174           1\n7800648702            0.018727               0.004557           2\nB00004CI84            0.044944               0.039487           3\nB00004CXX9            0.044944               0.039487           4",
      "text/html": "<div>\n<style scoped>\n    .dataframe tbody tr th:only-of-type {\n        vertical-align: middle;\n    }\n\n    .dataframe tbody tr th {\n        vertical-align: top;\n    }\n\n    .dataframe thead th {\n        text-align: right;\n    }\n</style>\n<table border=\"1\" class=\"dataframe\">\n  <thead>\n    <tr style=\"text-align: right;\">\n      <th></th>\n      <th>Avg_actual_ratings</th>\n      <th>Avg_predicted_ratings</th>\n      <th>item_index</th>\n    </tr>\n    <tr>\n      <th>ProductId</th>\n      <th></th>\n      <th></th>\n      <th></th>\n    </tr>\n  </thead>\n  <tbody>\n    <tr>\n      <th>7310172001</th>\n      <td>0.037453</td>\n      <td>0.001174</td>\n      <td>0</td>\n    </tr>\n    <tr>\n      <th>7310172101</th>\n      <td>0.037453</td>\n      <td>0.001174</td>\n      <td>1</td>\n    </tr>\n    <tr>\n      <th>7800648702</th>\n      <td>0.018727</td>\n      <td>0.004557</td>\n      <td>2</td>\n    </tr>\n    <tr>\n      <th>B00004CI84</th>\n      <td>0.044944</td>\n      <td>0.039487</td>\n      <td>3</td>\n    </tr>\n    <tr>\n      <th>B00004CXX9</th>\n      <td>0.044944</td>\n      <td>0.039487</td>\n      <td>4</td>\n    </tr>\n  </tbody>\n</table>\n</div>"
     },
     "execution_count": 52,
     "metadata": {},
     "output_type": "execute_result"
    }
   ]
  },
  {
   "metadata": {
    "trusted": true
   },
   "cell_type": "code",
   "source": "RMSE = round((((rmse_df.Avg_actual_ratings - rmse_df.Avg_predicted_ratings) ** 2).mean() ** 0.5), 5)\nprint('\\nRMSE SVD Model = {} \\n'.format(RMSE))",
   "execution_count": 53,
   "outputs": [
    {
     "name": "stdout",
     "output_type": "stream",
     "text": [
      "\n",
      "RMSE SVD Model = 0.00995 \n",
      "\n"
     ]
    }
   ]
  },
  {
   "metadata": {},
   "cell_type": "markdown",
   "source": "## Get top - K ( K = 5) recommendations. Since our goal is to recommend new products to each user based on his/her habits, we will recommend 5 new products."
  },
  {
   "metadata": {
    "trusted": true
   },
   "cell_type": "code",
   "source": "# Enter 'userID' and 'num_recommendations' for the user #\nuserID = 200\nnum_recommendations = 5\nrecommend_items(userID, pivot_df, preds_df, num_recommendations)",
   "execution_count": 54,
   "outputs": [
    {
     "name": "stdout",
     "output_type": "stream",
     "text": [
      "\n",
      "Below are the recommended items for user(user_id = 200):\n",
      "\n",
      "                   user_ratings  user_predictions\n",
      "Recommended Items                                \n",
      "B004BKLHOS                  0.0          0.823791\n",
      "B0061IUIDY                  0.0          0.622365\n",
      "B004JRO1S2                  0.0          0.538305\n",
      "B0061IUKDM                  0.0          0.534249\n",
      "B002DZIL24                  0.0          0.529929\n"
     ]
    }
   ]
  },
  {
   "metadata": {},
   "cell_type": "markdown",
   "source": "# Conclusion \n\nModel-based Collaborative Filtering is a personalised recommender system, the recommendations are based on the past behavior of the user and it is not dependent on any additional information.\n\nThe Popularity-based recommender system is non-personalised and the recommendations are based on frequecy counts, which may be not suitable to the user.You can see the differance above for the user id 121 & 200, The Popularity based model has recommended the same set of 5 products to both but Collaborative Filtering based model has recommended entire different list based on the user past purchase history"
  }
 ],
 "metadata": {
  "kernelspec": {
   "language": "python",
   "display_name": "Python 3",
   "name": "python3"
  },
  "language_info": {
   "pygments_lexer": "ipython3",
   "nbconvert_exporter": "python",
   "version": "3.6.4",
   "file_extension": ".py",
   "codemirror_mode": {
    "name": "ipython",
    "version": 3
   },
   "name": "python",
   "mimetype": "text/x-python"
  }
 },
 "nbformat": 4,
 "nbformat_minor": 1
}